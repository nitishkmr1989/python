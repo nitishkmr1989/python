{
 "cells": [
  {
   "cell_type": "markdown",
   "metadata": {},
   "source": [
    "# Linear Regression - Project Exercise\n",
    "\n",
    "Congratulations! You just got some contract work with an Ecommerce company based in New York City that sells clothing online but they also have in-store style and clothing advice sessions. Customers come in to the store, have sessions/meetings with a personal stylist, then they can go home and order either on a mobile app or website for the clothes they want.\n",
    "\n",
    "The company is trying to decide whether to focus their efforts on their mobile app experience or their website. They've hired you on contract to help them figure it out!"
   ]
  },
  {
   "cell_type": "markdown",
   "metadata": {},
   "source": [
    "## Imports\n",
    "** Import pandas, numpy, matplotlib,and seaborn. Then set %matplotlib inline \n",
    "(You'll import sklearn as you need it.)**"
   ]
  },
  {
   "cell_type": "code",
   "execution_count": 1,
   "metadata": {
    "collapsed": true
   },
   "outputs": [],
   "source": [
    "import pandas as pd\n",
    "import numpy as np\n",
    "import matplotlib.pyplot as plt\n",
    "import seaborn as sns\n",
    "%matplotlib inline"
   ]
  },
  {
   "cell_type": "markdown",
   "metadata": {},
   "source": [
    "## Get the Data\n",
    "\n",
    "We'll work with the Ecommerce Customers csv file from the company. It has Customer info, suchas Email, Address, and their color Avatar. Then it also has numerical value columns:\n",
    "\n",
    "* Avg. Session Length: Average session of in-store style advice sessions.\n",
    "* Time on App: Average time spent on App in minutes\n",
    "* Time on Website: Average time spent on Website in minutes\n",
    "* Length of Membership: How many years the customer has been a member. \n",
    "\n",
    "** Read in the Ecommerce Customers csv file as a DataFrame called customers.**"
   ]
  },
  {
   "cell_type": "code",
   "execution_count": 2,
   "metadata": {
    "collapsed": true
   },
   "outputs": [],
   "source": [
    "df=pd.read_csv('Ecommerce Customers.csv')"
   ]
  },
  {
   "cell_type": "markdown",
   "metadata": {},
   "source": [
    "**Check the head of customers, and check out its info() and describe() methods.**"
   ]
  },
  {
   "cell_type": "code",
   "execution_count": 3,
   "metadata": {},
   "outputs": [
    {
     "data": {
      "text/html": [
       "<div>\n",
       "<style>\n",
       "    .dataframe thead tr:only-child th {\n",
       "        text-align: right;\n",
       "    }\n",
       "\n",
       "    .dataframe thead th {\n",
       "        text-align: left;\n",
       "    }\n",
       "\n",
       "    .dataframe tbody tr th {\n",
       "        vertical-align: top;\n",
       "    }\n",
       "</style>\n",
       "<table border=\"1\" class=\"dataframe\">\n",
       "  <thead>\n",
       "    <tr style=\"text-align: right;\">\n",
       "      <th></th>\n",
       "      <th>Email</th>\n",
       "      <th>Address</th>\n",
       "      <th>Avatar</th>\n",
       "      <th>Avg. Session Length</th>\n",
       "      <th>Time on App</th>\n",
       "      <th>Time on Website</th>\n",
       "      <th>Length of Membership</th>\n",
       "      <th>Yearly Amount Spent</th>\n",
       "    </tr>\n",
       "  </thead>\n",
       "  <tbody>\n",
       "    <tr>\n",
       "      <th>0</th>\n",
       "      <td>mstephenson@fernandez.com</td>\n",
       "      <td>835 Frank Tunnel\\nWrightmouth, MI 82180-9605</td>\n",
       "      <td>Violet</td>\n",
       "      <td>34.497268</td>\n",
       "      <td>12.655651</td>\n",
       "      <td>39.577668</td>\n",
       "      <td>4.082621</td>\n",
       "      <td>587.951054</td>\n",
       "    </tr>\n",
       "    <tr>\n",
       "      <th>1</th>\n",
       "      <td>hduke@hotmail.com</td>\n",
       "      <td>4547 Archer Common\\nDiazchester, CA 06566-8576</td>\n",
       "      <td>DarkGreen</td>\n",
       "      <td>31.926272</td>\n",
       "      <td>11.109461</td>\n",
       "      <td>37.268959</td>\n",
       "      <td>2.664034</td>\n",
       "      <td>392.204933</td>\n",
       "    </tr>\n",
       "    <tr>\n",
       "      <th>2</th>\n",
       "      <td>pallen@yahoo.com</td>\n",
       "      <td>24645 Valerie Unions Suite 582\\nCobbborough, D...</td>\n",
       "      <td>Bisque</td>\n",
       "      <td>33.000915</td>\n",
       "      <td>11.330278</td>\n",
       "      <td>37.110597</td>\n",
       "      <td>4.104543</td>\n",
       "      <td>487.547505</td>\n",
       "    </tr>\n",
       "    <tr>\n",
       "      <th>3</th>\n",
       "      <td>riverarebecca@gmail.com</td>\n",
       "      <td>1414 David Throughway\\nPort Jason, OH 22070-1220</td>\n",
       "      <td>SaddleBrown</td>\n",
       "      <td>34.305557</td>\n",
       "      <td>13.717514</td>\n",
       "      <td>36.721283</td>\n",
       "      <td>3.120179</td>\n",
       "      <td>581.852344</td>\n",
       "    </tr>\n",
       "    <tr>\n",
       "      <th>4</th>\n",
       "      <td>mstephens@davidson-herman.com</td>\n",
       "      <td>14023 Rodriguez Passage\\nPort Jacobville, PR 3...</td>\n",
       "      <td>MediumAquaMarine</td>\n",
       "      <td>33.330673</td>\n",
       "      <td>12.795189</td>\n",
       "      <td>37.536653</td>\n",
       "      <td>4.446308</td>\n",
       "      <td>599.406092</td>\n",
       "    </tr>\n",
       "    <tr>\n",
       "      <th>5</th>\n",
       "      <td>alvareznancy@lucas.biz</td>\n",
       "      <td>645 Martha Park Apt. 611\\nJeffreychester, MN 6...</td>\n",
       "      <td>FloralWhite</td>\n",
       "      <td>33.871038</td>\n",
       "      <td>12.026925</td>\n",
       "      <td>34.476878</td>\n",
       "      <td>5.493507</td>\n",
       "      <td>637.102448</td>\n",
       "    </tr>\n",
       "    <tr>\n",
       "      <th>6</th>\n",
       "      <td>katherine20@yahoo.com</td>\n",
       "      <td>68388 Reyes Lights Suite 692\\nJosephbury, WV 9...</td>\n",
       "      <td>DarkSlateBlue</td>\n",
       "      <td>32.021596</td>\n",
       "      <td>11.366348</td>\n",
       "      <td>36.683776</td>\n",
       "      <td>4.685017</td>\n",
       "      <td>521.572175</td>\n",
       "    </tr>\n",
       "    <tr>\n",
       "      <th>7</th>\n",
       "      <td>awatkins@yahoo.com</td>\n",
       "      <td>Unit 6538 Box 8980\\nDPO AP 09026-4941</td>\n",
       "      <td>Aqua</td>\n",
       "      <td>32.739143</td>\n",
       "      <td>12.351959</td>\n",
       "      <td>37.373359</td>\n",
       "      <td>4.434273</td>\n",
       "      <td>549.904146</td>\n",
       "    </tr>\n",
       "    <tr>\n",
       "      <th>8</th>\n",
       "      <td>vchurch@walter-martinez.com</td>\n",
       "      <td>860 Lee Key\\nWest Debra, SD 97450-0495</td>\n",
       "      <td>Salmon</td>\n",
       "      <td>33.987773</td>\n",
       "      <td>13.386235</td>\n",
       "      <td>37.534497</td>\n",
       "      <td>3.273434</td>\n",
       "      <td>570.200409</td>\n",
       "    </tr>\n",
       "    <tr>\n",
       "      <th>9</th>\n",
       "      <td>bonnie69@lin.biz</td>\n",
       "      <td>PSC 2734, Box 5255\\nAPO AA 98456-7482</td>\n",
       "      <td>Brown</td>\n",
       "      <td>31.936549</td>\n",
       "      <td>11.814128</td>\n",
       "      <td>37.145168</td>\n",
       "      <td>3.202806</td>\n",
       "      <td>427.199385</td>\n",
       "    </tr>\n",
       "    <tr>\n",
       "      <th>10</th>\n",
       "      <td>andrew06@peterson.com</td>\n",
       "      <td>26104 Alexander Groves\\nAlexandriaport, WY 282...</td>\n",
       "      <td>Tomato</td>\n",
       "      <td>33.992573</td>\n",
       "      <td>13.338975</td>\n",
       "      <td>37.225806</td>\n",
       "      <td>2.482608</td>\n",
       "      <td>492.606013</td>\n",
       "    </tr>\n",
       "    <tr>\n",
       "      <th>11</th>\n",
       "      <td>ryanwerner@freeman.biz</td>\n",
       "      <td>Unit 2413 Box 0347\\nDPO AA 07580-2652</td>\n",
       "      <td>Tomato</td>\n",
       "      <td>33.879361</td>\n",
       "      <td>11.584783</td>\n",
       "      <td>37.087926</td>\n",
       "      <td>3.713209</td>\n",
       "      <td>522.337405</td>\n",
       "    </tr>\n",
       "    <tr>\n",
       "      <th>12</th>\n",
       "      <td>knelson@gmail.com</td>\n",
       "      <td>6705 Miller Orchard Suite 186\\nLake Shanestad,...</td>\n",
       "      <td>RoyalBlue</td>\n",
       "      <td>29.532429</td>\n",
       "      <td>10.961298</td>\n",
       "      <td>37.420216</td>\n",
       "      <td>4.046423</td>\n",
       "      <td>408.640351</td>\n",
       "    </tr>\n",
       "    <tr>\n",
       "      <th>13</th>\n",
       "      <td>wrightpeter@yahoo.com</td>\n",
       "      <td>05302 Dunlap Ferry\\nNew Stephaniehaven, MP 42268</td>\n",
       "      <td>Bisque</td>\n",
       "      <td>33.190334</td>\n",
       "      <td>12.959226</td>\n",
       "      <td>36.144667</td>\n",
       "      <td>3.918542</td>\n",
       "      <td>573.415867</td>\n",
       "    </tr>\n",
       "    <tr>\n",
       "      <th>14</th>\n",
       "      <td>taylormason@gmail.com</td>\n",
       "      <td>7773 Powell Springs Suite 190\\nSamanthaland, N...</td>\n",
       "      <td>DarkBlue</td>\n",
       "      <td>32.387976</td>\n",
       "      <td>13.148726</td>\n",
       "      <td>36.619957</td>\n",
       "      <td>2.494544</td>\n",
       "      <td>470.452733</td>\n",
       "    </tr>\n",
       "    <tr>\n",
       "      <th>15</th>\n",
       "      <td>jstark@anderson.com</td>\n",
       "      <td>49558 Ramirez Road Suite 399\\nPhillipstad, OH ...</td>\n",
       "      <td>Peru</td>\n",
       "      <td>30.737720</td>\n",
       "      <td>12.636606</td>\n",
       "      <td>36.213763</td>\n",
       "      <td>3.357847</td>\n",
       "      <td>461.780742</td>\n",
       "    </tr>\n",
       "    <tr>\n",
       "      <th>16</th>\n",
       "      <td>wjennings@gmail.com</td>\n",
       "      <td>6362 Wilson Mountain\\nJohnsonfurt, GA 15169</td>\n",
       "      <td>PowderBlue</td>\n",
       "      <td>32.125387</td>\n",
       "      <td>11.733862</td>\n",
       "      <td>34.894093</td>\n",
       "      <td>3.136133</td>\n",
       "      <td>457.847696</td>\n",
       "    </tr>\n",
       "    <tr>\n",
       "      <th>17</th>\n",
       "      <td>rebecca45@hale-bauer.biz</td>\n",
       "      <td>8982 Burton Row\\nWilsonton, PW 88606</td>\n",
       "      <td>OliveDrab</td>\n",
       "      <td>32.338899</td>\n",
       "      <td>12.013195</td>\n",
       "      <td>38.385137</td>\n",
       "      <td>2.420806</td>\n",
       "      <td>407.704547</td>\n",
       "    </tr>\n",
       "    <tr>\n",
       "      <th>18</th>\n",
       "      <td>alejandro75@hotmail.com</td>\n",
       "      <td>64475 Andre Club Apt. 795\\nPort Dannytown, PW ...</td>\n",
       "      <td>Cyan</td>\n",
       "      <td>32.187812</td>\n",
       "      <td>14.715388</td>\n",
       "      <td>38.244115</td>\n",
       "      <td>1.516576</td>\n",
       "      <td>452.315675</td>\n",
       "    </tr>\n",
       "    <tr>\n",
       "      <th>19</th>\n",
       "      <td>samuel46@love-west.net</td>\n",
       "      <td>544 Alexander Heights Suite 768\\nNorth Johnvie...</td>\n",
       "      <td>LightSeaGreen</td>\n",
       "      <td>32.617856</td>\n",
       "      <td>13.989593</td>\n",
       "      <td>37.190504</td>\n",
       "      <td>4.064549</td>\n",
       "      <td>605.061039</td>\n",
       "    </tr>\n",
       "    <tr>\n",
       "      <th>20</th>\n",
       "      <td>megan33@gmail.com</td>\n",
       "      <td>84426 Julia Vista\\nNorth Teresa, KY 50756</td>\n",
       "      <td>PeachPuff</td>\n",
       "      <td>32.912785</td>\n",
       "      <td>11.365492</td>\n",
       "      <td>37.607793</td>\n",
       "      <td>4.599937</td>\n",
       "      <td>534.705744</td>\n",
       "    </tr>\n",
       "    <tr>\n",
       "      <th>21</th>\n",
       "      <td>agolden@yahoo.com</td>\n",
       "      <td>PSC 2490, Box 2120\\nAPO AE 15445-2876</td>\n",
       "      <td>Black</td>\n",
       "      <td>33.503087</td>\n",
       "      <td>12.877984</td>\n",
       "      <td>37.441021</td>\n",
       "      <td>1.559152</td>\n",
       "      <td>419.938775</td>\n",
       "    </tr>\n",
       "    <tr>\n",
       "      <th>22</th>\n",
       "      <td>vstafford@hotmail.com</td>\n",
       "      <td>PSC 5723, Box 8159\\nAPO AA 74738</td>\n",
       "      <td>Olive</td>\n",
       "      <td>31.531604</td>\n",
       "      <td>13.378563</td>\n",
       "      <td>38.734006</td>\n",
       "      <td>2.245148</td>\n",
       "      <td>436.515606</td>\n",
       "    </tr>\n",
       "    <tr>\n",
       "      <th>23</th>\n",
       "      <td>denise22@hernandez-townsend.com</td>\n",
       "      <td>USNS Cardenas\\nFPO AA 85439-9449</td>\n",
       "      <td>Silver</td>\n",
       "      <td>32.903251</td>\n",
       "      <td>11.657576</td>\n",
       "      <td>36.772604</td>\n",
       "      <td>3.919302</td>\n",
       "      <td>519.340989</td>\n",
       "    </tr>\n",
       "    <tr>\n",
       "      <th>24</th>\n",
       "      <td>youngbarbara@yahoo.com</td>\n",
       "      <td>019 Elliott Tunnel Suite 190\\nNicholsbury, WV ...</td>\n",
       "      <td>Wheat</td>\n",
       "      <td>34.507551</td>\n",
       "      <td>12.893670</td>\n",
       "      <td>37.635756</td>\n",
       "      <td>5.705154</td>\n",
       "      <td>700.917092</td>\n",
       "    </tr>\n",
       "    <tr>\n",
       "      <th>25</th>\n",
       "      <td>william25@mcconnell.com</td>\n",
       "      <td>9495 Mary Fall Apt. 777\\nGlassport, ND 17957-5596</td>\n",
       "      <td>Teal</td>\n",
       "      <td>33.029332</td>\n",
       "      <td>11.765813</td>\n",
       "      <td>37.738525</td>\n",
       "      <td>2.721736</td>\n",
       "      <td>423.179992</td>\n",
       "    </tr>\n",
       "    <tr>\n",
       "      <th>26</th>\n",
       "      <td>ijones@schaefer-carr.net</td>\n",
       "      <td>657 Judith Crossroad\\nHancockchester, VI 75658...</td>\n",
       "      <td>Linen</td>\n",
       "      <td>33.541231</td>\n",
       "      <td>12.783892</td>\n",
       "      <td>36.430650</td>\n",
       "      <td>4.648199</td>\n",
       "      <td>619.895640</td>\n",
       "    </tr>\n",
       "    <tr>\n",
       "      <th>27</th>\n",
       "      <td>heatherhall@yahoo.com</td>\n",
       "      <td>8522 Regina Port Suite 782\\nPort Kaitlin, TX 5...</td>\n",
       "      <td>MediumSlateBlue</td>\n",
       "      <td>32.335990</td>\n",
       "      <td>13.007819</td>\n",
       "      <td>37.851779</td>\n",
       "      <td>2.996365</td>\n",
       "      <td>486.838935</td>\n",
       "    </tr>\n",
       "    <tr>\n",
       "      <th>28</th>\n",
       "      <td>tinasmith@martinez.info</td>\n",
       "      <td>40000 Ann Port Suite 474\\nYoungberg, MS 03651</td>\n",
       "      <td>LemonChiffon</td>\n",
       "      <td>33.110205</td>\n",
       "      <td>11.982045</td>\n",
       "      <td>35.293088</td>\n",
       "      <td>3.923489</td>\n",
       "      <td>529.537665</td>\n",
       "    </tr>\n",
       "    <tr>\n",
       "      <th>29</th>\n",
       "      <td>chasejennifer@hotmail.com</td>\n",
       "      <td>9507 Robert Prairie Apt. 601\\nEast Crystalview...</td>\n",
       "      <td>DarkOrchid</td>\n",
       "      <td>33.105438</td>\n",
       "      <td>11.965020</td>\n",
       "      <td>37.277812</td>\n",
       "      <td>4.742578</td>\n",
       "      <td>554.722084</td>\n",
       "    </tr>\n",
       "    <tr>\n",
       "      <th>...</th>\n",
       "      <td>...</td>\n",
       "      <td>...</td>\n",
       "      <td>...</td>\n",
       "      <td>...</td>\n",
       "      <td>...</td>\n",
       "      <td>...</td>\n",
       "      <td>...</td>\n",
       "      <td>...</td>\n",
       "    </tr>\n",
       "    <tr>\n",
       "      <th>470</th>\n",
       "      <td>kennethperry@bowen.org</td>\n",
       "      <td>272 Frederick Lodge\\nEast Andrew, FL 07414</td>\n",
       "      <td>SlateGray</td>\n",
       "      <td>32.518197</td>\n",
       "      <td>11.509253</td>\n",
       "      <td>36.599289</td>\n",
       "      <td>3.022676</td>\n",
       "      <td>424.728774</td>\n",
       "    </tr>\n",
       "    <tr>\n",
       "      <th>471</th>\n",
       "      <td>prussell@lopez.com</td>\n",
       "      <td>9985 Wolf Pass\\nBrandimouth, CA 63346</td>\n",
       "      <td>Bisque</td>\n",
       "      <td>34.523020</td>\n",
       "      <td>11.405770</td>\n",
       "      <td>36.378271</td>\n",
       "      <td>4.041245</td>\n",
       "      <td>541.049831</td>\n",
       "    </tr>\n",
       "    <tr>\n",
       "      <th>472</th>\n",
       "      <td>mosleyjacob@yahoo.com</td>\n",
       "      <td>PSC 1790, Box 8872\\nAPO AE 01821-4769</td>\n",
       "      <td>Orange</td>\n",
       "      <td>33.665990</td>\n",
       "      <td>12.263718</td>\n",
       "      <td>38.860234</td>\n",
       "      <td>3.139527</td>\n",
       "      <td>469.383146</td>\n",
       "    </tr>\n",
       "    <tr>\n",
       "      <th>473</th>\n",
       "      <td>rhaas@yahoo.com</td>\n",
       "      <td>4502 Jennifer Prairie Suite 029\\nLake Jesse, L...</td>\n",
       "      <td>DimGray</td>\n",
       "      <td>31.609840</td>\n",
       "      <td>12.710701</td>\n",
       "      <td>36.166463</td>\n",
       "      <td>2.562819</td>\n",
       "      <td>444.545550</td>\n",
       "    </tr>\n",
       "    <tr>\n",
       "      <th>474</th>\n",
       "      <td>antonioharris@hotmail.com</td>\n",
       "      <td>4307 Nicholas Drive Apt. 259\\nRamirezberg, AS ...</td>\n",
       "      <td>MediumBlue</td>\n",
       "      <td>33.700886</td>\n",
       "      <td>13.471578</td>\n",
       "      <td>37.071643</td>\n",
       "      <td>2.379076</td>\n",
       "      <td>492.556834</td>\n",
       "    </tr>\n",
       "    <tr>\n",
       "      <th>475</th>\n",
       "      <td>austinthomas@gmail.com</td>\n",
       "      <td>5855 Gross Burgs Suite 169\\nBallland, AS 98525</td>\n",
       "      <td>AntiqueWhite</td>\n",
       "      <td>33.811733</td>\n",
       "      <td>11.186809</td>\n",
       "      <td>36.298893</td>\n",
       "      <td>4.301996</td>\n",
       "      <td>535.321610</td>\n",
       "    </tr>\n",
       "    <tr>\n",
       "      <th>476</th>\n",
       "      <td>bethsullivan@reed.net</td>\n",
       "      <td>80500 Mary Corners Apt. 225\\nWallsville, ME 80526</td>\n",
       "      <td>Beige</td>\n",
       "      <td>34.336677</td>\n",
       "      <td>11.246813</td>\n",
       "      <td>38.682584</td>\n",
       "      <td>2.094762</td>\n",
       "      <td>408.958336</td>\n",
       "    </tr>\n",
       "    <tr>\n",
       "      <th>477</th>\n",
       "      <td>ncummings@yahoo.com</td>\n",
       "      <td>344 Jessica Stravenue\\nNew Brian, MA 04730-6761</td>\n",
       "      <td>Beige</td>\n",
       "      <td>31.061325</td>\n",
       "      <td>12.357638</td>\n",
       "      <td>36.166042</td>\n",
       "      <td>4.089331</td>\n",
       "      <td>487.555458</td>\n",
       "    </tr>\n",
       "    <tr>\n",
       "      <th>478</th>\n",
       "      <td>hking@hotmail.com</td>\n",
       "      <td>85181 Christian Courts Suite 758\\nLarryfurt, M...</td>\n",
       "      <td>PeachPuff</td>\n",
       "      <td>33.069768</td>\n",
       "      <td>11.764326</td>\n",
       "      <td>36.875026</td>\n",
       "      <td>3.516051</td>\n",
       "      <td>487.646232</td>\n",
       "    </tr>\n",
       "    <tr>\n",
       "      <th>479</th>\n",
       "      <td>annstone@hotmail.com</td>\n",
       "      <td>543 Reynolds Burg\\nMelindaberg, KY 46631</td>\n",
       "      <td>LightPink</td>\n",
       "      <td>34.606242</td>\n",
       "      <td>11.761884</td>\n",
       "      <td>38.126520</td>\n",
       "      <td>1.820811</td>\n",
       "      <td>402.167122</td>\n",
       "    </tr>\n",
       "    <tr>\n",
       "      <th>480</th>\n",
       "      <td>christopher44@hotmail.com</td>\n",
       "      <td>549 Anna Avenue\\nPort Laura, CA 76209-9339</td>\n",
       "      <td>WhiteSmoke</td>\n",
       "      <td>34.238242</td>\n",
       "      <td>11.550300</td>\n",
       "      <td>35.769330</td>\n",
       "      <td>4.183144</td>\n",
       "      <td>551.023002</td>\n",
       "    </tr>\n",
       "    <tr>\n",
       "      <th>481</th>\n",
       "      <td>autumn88@mendoza-mills.com</td>\n",
       "      <td>214 Obrien Lakes Suite 572\\nSouth Jeremy, KS 5...</td>\n",
       "      <td>MediumOrchid</td>\n",
       "      <td>32.047815</td>\n",
       "      <td>12.482670</td>\n",
       "      <td>35.536025</td>\n",
       "      <td>3.393903</td>\n",
       "      <td>497.389558</td>\n",
       "    </tr>\n",
       "    <tr>\n",
       "      <th>482</th>\n",
       "      <td>dhudson@ramos.net</td>\n",
       "      <td>5661 Grant Centers\\nStevensfurt, CT 53959</td>\n",
       "      <td>Olive</td>\n",
       "      <td>30.971676</td>\n",
       "      <td>11.731364</td>\n",
       "      <td>36.074551</td>\n",
       "      <td>4.426364</td>\n",
       "      <td>494.638610</td>\n",
       "    </tr>\n",
       "    <tr>\n",
       "      <th>483</th>\n",
       "      <td>egomez@hotmail.com</td>\n",
       "      <td>768 Riley Pine Apt. 624\\nKellymouth, OK 98992-...</td>\n",
       "      <td>MistyRose</td>\n",
       "      <td>33.606851</td>\n",
       "      <td>12.214074</td>\n",
       "      <td>37.198428</td>\n",
       "      <td>2.905238</td>\n",
       "      <td>479.247417</td>\n",
       "    </tr>\n",
       "    <tr>\n",
       "      <th>484</th>\n",
       "      <td>kimberlyruiz@smith-gordon.com</td>\n",
       "      <td>503 Adams Pines Apt. 638\\nNorth Ashleyside, AZ...</td>\n",
       "      <td>DarkRed</td>\n",
       "      <td>33.448125</td>\n",
       "      <td>11.903757</td>\n",
       "      <td>36.874544</td>\n",
       "      <td>2.782758</td>\n",
       "      <td>462.656519</td>\n",
       "    </tr>\n",
       "    <tr>\n",
       "      <th>485</th>\n",
       "      <td>mooremichelle@logan.com</td>\n",
       "      <td>07813 Randy Point\\nLake Thomasberg, MO 06013-9920</td>\n",
       "      <td>Pink</td>\n",
       "      <td>33.369381</td>\n",
       "      <td>12.222484</td>\n",
       "      <td>36.355235</td>\n",
       "      <td>3.447018</td>\n",
       "      <td>515.502480</td>\n",
       "    </tr>\n",
       "    <tr>\n",
       "      <th>486</th>\n",
       "      <td>aaron22@gmail.com</td>\n",
       "      <td>38678 Sean Drive Suite 293\\nKarentown, IA 7830...</td>\n",
       "      <td>DarkGray</td>\n",
       "      <td>33.452295</td>\n",
       "      <td>12.005916</td>\n",
       "      <td>36.534096</td>\n",
       "      <td>4.712234</td>\n",
       "      <td>576.477607</td>\n",
       "    </tr>\n",
       "    <tr>\n",
       "      <th>487</th>\n",
       "      <td>michelleshepherd@price.com</td>\n",
       "      <td>6820 Erica Vista Apt. 418\\nBrightside, IA 50639</td>\n",
       "      <td>Orchid</td>\n",
       "      <td>32.904692</td>\n",
       "      <td>11.913745</td>\n",
       "      <td>36.058648</td>\n",
       "      <td>1.228112</td>\n",
       "      <td>357.857984</td>\n",
       "    </tr>\n",
       "    <tr>\n",
       "      <th>488</th>\n",
       "      <td>zscott@wright.com</td>\n",
       "      <td>9909 Hoffman Ranch Suite 195\\nScotthaven, SC 5...</td>\n",
       "      <td>PeachPuff</td>\n",
       "      <td>35.630854</td>\n",
       "      <td>12.125402</td>\n",
       "      <td>38.187764</td>\n",
       "      <td>4.019051</td>\n",
       "      <td>597.739879</td>\n",
       "    </tr>\n",
       "    <tr>\n",
       "      <th>489</th>\n",
       "      <td>tracy79@wheeler.net</td>\n",
       "      <td>513 Moore Crescent Apt. 416\\nAmandaberg, GU 03...</td>\n",
       "      <td>Magenta</td>\n",
       "      <td>32.246350</td>\n",
       "      <td>11.305551</td>\n",
       "      <td>37.133127</td>\n",
       "      <td>1.707390</td>\n",
       "      <td>327.377953</td>\n",
       "    </tr>\n",
       "    <tr>\n",
       "      <th>490</th>\n",
       "      <td>brian28@sanchez.org</td>\n",
       "      <td>7446 Mary Ferry\\nLake Sherryfurt, GA 49066-0207</td>\n",
       "      <td>GhostWhite</td>\n",
       "      <td>34.695591</td>\n",
       "      <td>11.608997</td>\n",
       "      <td>37.684877</td>\n",
       "      <td>3.163092</td>\n",
       "      <td>510.401388</td>\n",
       "    </tr>\n",
       "    <tr>\n",
       "      <th>491</th>\n",
       "      <td>leonardhancock@hotmail.com</td>\n",
       "      <td>64147 Alexander Station Apt. 474\\nEast Jasonvi...</td>\n",
       "      <td>SeaShell</td>\n",
       "      <td>34.343922</td>\n",
       "      <td>11.693058</td>\n",
       "      <td>36.812934</td>\n",
       "      <td>3.447093</td>\n",
       "      <td>510.501479</td>\n",
       "    </tr>\n",
       "    <tr>\n",
       "      <th>492</th>\n",
       "      <td>davidsonkathleen@gmail.com</td>\n",
       "      <td>70128 Zimmerman Overpass\\nRobertsshire, VA 59860</td>\n",
       "      <td>DarkBlue</td>\n",
       "      <td>33.680937</td>\n",
       "      <td>11.201570</td>\n",
       "      <td>37.835448</td>\n",
       "      <td>2.208814</td>\n",
       "      <td>403.819520</td>\n",
       "    </tr>\n",
       "    <tr>\n",
       "      <th>493</th>\n",
       "      <td>nathan84@lowery.net</td>\n",
       "      <td>01242 Stephanie Ways Suite 003\\nChurchville, M...</td>\n",
       "      <td>MediumSeaGreen</td>\n",
       "      <td>32.060914</td>\n",
       "      <td>12.625433</td>\n",
       "      <td>35.539142</td>\n",
       "      <td>5.412358</td>\n",
       "      <td>627.603319</td>\n",
       "    </tr>\n",
       "    <tr>\n",
       "      <th>494</th>\n",
       "      <td>kellydeborah@chan.biz</td>\n",
       "      <td>354 Sanchez Wall Suite 884\\nJuliabury, VI 39735</td>\n",
       "      <td>DarkTurquoise</td>\n",
       "      <td>33.431097</td>\n",
       "      <td>13.350632</td>\n",
       "      <td>37.965972</td>\n",
       "      <td>2.768852</td>\n",
       "      <td>510.661792</td>\n",
       "    </tr>\n",
       "    <tr>\n",
       "      <th>495</th>\n",
       "      <td>lewisjessica@craig-evans.com</td>\n",
       "      <td>4483 Jones Motorway Suite 872\\nLake Jamiefurt,...</td>\n",
       "      <td>Tan</td>\n",
       "      <td>33.237660</td>\n",
       "      <td>13.566160</td>\n",
       "      <td>36.417985</td>\n",
       "      <td>3.746573</td>\n",
       "      <td>573.847438</td>\n",
       "    </tr>\n",
       "    <tr>\n",
       "      <th>496</th>\n",
       "      <td>katrina56@gmail.com</td>\n",
       "      <td>172 Owen Divide Suite 497\\nWest Richard, CA 19320</td>\n",
       "      <td>PaleVioletRed</td>\n",
       "      <td>34.702529</td>\n",
       "      <td>11.695736</td>\n",
       "      <td>37.190268</td>\n",
       "      <td>3.576526</td>\n",
       "      <td>529.049004</td>\n",
       "    </tr>\n",
       "    <tr>\n",
       "      <th>497</th>\n",
       "      <td>dale88@hotmail.com</td>\n",
       "      <td>0787 Andrews Ranch Apt. 633\\nSouth Chadburgh, ...</td>\n",
       "      <td>Cornsilk</td>\n",
       "      <td>32.646777</td>\n",
       "      <td>11.499409</td>\n",
       "      <td>38.332576</td>\n",
       "      <td>4.958264</td>\n",
       "      <td>551.620146</td>\n",
       "    </tr>\n",
       "    <tr>\n",
       "      <th>498</th>\n",
       "      <td>cwilson@hotmail.com</td>\n",
       "      <td>680 Jennifer Lodge Apt. 808\\nBrendachester, TX...</td>\n",
       "      <td>Teal</td>\n",
       "      <td>33.322501</td>\n",
       "      <td>12.391423</td>\n",
       "      <td>36.840086</td>\n",
       "      <td>2.336485</td>\n",
       "      <td>456.469510</td>\n",
       "    </tr>\n",
       "    <tr>\n",
       "      <th>499</th>\n",
       "      <td>hannahwilson@davidson.com</td>\n",
       "      <td>49791 Rachel Heights Apt. 898\\nEast Drewboroug...</td>\n",
       "      <td>DarkMagenta</td>\n",
       "      <td>33.715981</td>\n",
       "      <td>12.418808</td>\n",
       "      <td>35.771016</td>\n",
       "      <td>2.735160</td>\n",
       "      <td>497.778642</td>\n",
       "    </tr>\n",
       "  </tbody>\n",
       "</table>\n",
       "<p>500 rows × 8 columns</p>\n",
       "</div>"
      ],
      "text/plain": [
       "                               Email  \\\n",
       "0          mstephenson@fernandez.com   \n",
       "1                  hduke@hotmail.com   \n",
       "2                   pallen@yahoo.com   \n",
       "3            riverarebecca@gmail.com   \n",
       "4      mstephens@davidson-herman.com   \n",
       "5             alvareznancy@lucas.biz   \n",
       "6              katherine20@yahoo.com   \n",
       "7                 awatkins@yahoo.com   \n",
       "8        vchurch@walter-martinez.com   \n",
       "9                   bonnie69@lin.biz   \n",
       "10             andrew06@peterson.com   \n",
       "11            ryanwerner@freeman.biz   \n",
       "12                 knelson@gmail.com   \n",
       "13             wrightpeter@yahoo.com   \n",
       "14             taylormason@gmail.com   \n",
       "15               jstark@anderson.com   \n",
       "16               wjennings@gmail.com   \n",
       "17          rebecca45@hale-bauer.biz   \n",
       "18           alejandro75@hotmail.com   \n",
       "19            samuel46@love-west.net   \n",
       "20                 megan33@gmail.com   \n",
       "21                 agolden@yahoo.com   \n",
       "22             vstafford@hotmail.com   \n",
       "23   denise22@hernandez-townsend.com   \n",
       "24            youngbarbara@yahoo.com   \n",
       "25           william25@mcconnell.com   \n",
       "26          ijones@schaefer-carr.net   \n",
       "27             heatherhall@yahoo.com   \n",
       "28           tinasmith@martinez.info   \n",
       "29         chasejennifer@hotmail.com   \n",
       "..                               ...   \n",
       "470           kennethperry@bowen.org   \n",
       "471               prussell@lopez.com   \n",
       "472            mosleyjacob@yahoo.com   \n",
       "473                  rhaas@yahoo.com   \n",
       "474        antonioharris@hotmail.com   \n",
       "475           austinthomas@gmail.com   \n",
       "476            bethsullivan@reed.net   \n",
       "477              ncummings@yahoo.com   \n",
       "478                hking@hotmail.com   \n",
       "479             annstone@hotmail.com   \n",
       "480        christopher44@hotmail.com   \n",
       "481       autumn88@mendoza-mills.com   \n",
       "482                dhudson@ramos.net   \n",
       "483               egomez@hotmail.com   \n",
       "484    kimberlyruiz@smith-gordon.com   \n",
       "485          mooremichelle@logan.com   \n",
       "486                aaron22@gmail.com   \n",
       "487       michelleshepherd@price.com   \n",
       "488                zscott@wright.com   \n",
       "489              tracy79@wheeler.net   \n",
       "490              brian28@sanchez.org   \n",
       "491       leonardhancock@hotmail.com   \n",
       "492       davidsonkathleen@gmail.com   \n",
       "493              nathan84@lowery.net   \n",
       "494            kellydeborah@chan.biz   \n",
       "495     lewisjessica@craig-evans.com   \n",
       "496              katrina56@gmail.com   \n",
       "497               dale88@hotmail.com   \n",
       "498              cwilson@hotmail.com   \n",
       "499        hannahwilson@davidson.com   \n",
       "\n",
       "                                               Address            Avatar  \\\n",
       "0         835 Frank Tunnel\\nWrightmouth, MI 82180-9605            Violet   \n",
       "1       4547 Archer Common\\nDiazchester, CA 06566-8576         DarkGreen   \n",
       "2    24645 Valerie Unions Suite 582\\nCobbborough, D...            Bisque   \n",
       "3     1414 David Throughway\\nPort Jason, OH 22070-1220       SaddleBrown   \n",
       "4    14023 Rodriguez Passage\\nPort Jacobville, PR 3...  MediumAquaMarine   \n",
       "5    645 Martha Park Apt. 611\\nJeffreychester, MN 6...       FloralWhite   \n",
       "6    68388 Reyes Lights Suite 692\\nJosephbury, WV 9...     DarkSlateBlue   \n",
       "7                Unit 6538 Box 8980\\nDPO AP 09026-4941              Aqua   \n",
       "8               860 Lee Key\\nWest Debra, SD 97450-0495            Salmon   \n",
       "9                PSC 2734, Box 5255\\nAPO AA 98456-7482             Brown   \n",
       "10   26104 Alexander Groves\\nAlexandriaport, WY 282...            Tomato   \n",
       "11               Unit 2413 Box 0347\\nDPO AA 07580-2652            Tomato   \n",
       "12   6705 Miller Orchard Suite 186\\nLake Shanestad,...         RoyalBlue   \n",
       "13    05302 Dunlap Ferry\\nNew Stephaniehaven, MP 42268            Bisque   \n",
       "14   7773 Powell Springs Suite 190\\nSamanthaland, N...          DarkBlue   \n",
       "15   49558 Ramirez Road Suite 399\\nPhillipstad, OH ...              Peru   \n",
       "16         6362 Wilson Mountain\\nJohnsonfurt, GA 15169        PowderBlue   \n",
       "17                8982 Burton Row\\nWilsonton, PW 88606         OliveDrab   \n",
       "18   64475 Andre Club Apt. 795\\nPort Dannytown, PW ...              Cyan   \n",
       "19   544 Alexander Heights Suite 768\\nNorth Johnvie...     LightSeaGreen   \n",
       "20           84426 Julia Vista\\nNorth Teresa, KY 50756         PeachPuff   \n",
       "21               PSC 2490, Box 2120\\nAPO AE 15445-2876             Black   \n",
       "22                    PSC 5723, Box 8159\\nAPO AA 74738             Olive   \n",
       "23                    USNS Cardenas\\nFPO AA 85439-9449            Silver   \n",
       "24   019 Elliott Tunnel Suite 190\\nNicholsbury, WV ...             Wheat   \n",
       "25   9495 Mary Fall Apt. 777\\nGlassport, ND 17957-5596              Teal   \n",
       "26   657 Judith Crossroad\\nHancockchester, VI 75658...             Linen   \n",
       "27   8522 Regina Port Suite 782\\nPort Kaitlin, TX 5...   MediumSlateBlue   \n",
       "28       40000 Ann Port Suite 474\\nYoungberg, MS 03651      LemonChiffon   \n",
       "29   9507 Robert Prairie Apt. 601\\nEast Crystalview...        DarkOrchid   \n",
       "..                                                 ...               ...   \n",
       "470         272 Frederick Lodge\\nEast Andrew, FL 07414         SlateGray   \n",
       "471              9985 Wolf Pass\\nBrandimouth, CA 63346            Bisque   \n",
       "472              PSC 1790, Box 8872\\nAPO AE 01821-4769            Orange   \n",
       "473  4502 Jennifer Prairie Suite 029\\nLake Jesse, L...           DimGray   \n",
       "474  4307 Nicholas Drive Apt. 259\\nRamirezberg, AS ...        MediumBlue   \n",
       "475     5855 Gross Burgs Suite 169\\nBallland, AS 98525      AntiqueWhite   \n",
       "476  80500 Mary Corners Apt. 225\\nWallsville, ME 80526             Beige   \n",
       "477    344 Jessica Stravenue\\nNew Brian, MA 04730-6761             Beige   \n",
       "478  85181 Christian Courts Suite 758\\nLarryfurt, M...         PeachPuff   \n",
       "479           543 Reynolds Burg\\nMelindaberg, KY 46631         LightPink   \n",
       "480         549 Anna Avenue\\nPort Laura, CA 76209-9339        WhiteSmoke   \n",
       "481  214 Obrien Lakes Suite 572\\nSouth Jeremy, KS 5...      MediumOrchid   \n",
       "482          5661 Grant Centers\\nStevensfurt, CT 53959             Olive   \n",
       "483  768 Riley Pine Apt. 624\\nKellymouth, OK 98992-...         MistyRose   \n",
       "484  503 Adams Pines Apt. 638\\nNorth Ashleyside, AZ...           DarkRed   \n",
       "485  07813 Randy Point\\nLake Thomasberg, MO 06013-9920              Pink   \n",
       "486  38678 Sean Drive Suite 293\\nKarentown, IA 7830...          DarkGray   \n",
       "487    6820 Erica Vista Apt. 418\\nBrightside, IA 50639            Orchid   \n",
       "488  9909 Hoffman Ranch Suite 195\\nScotthaven, SC 5...         PeachPuff   \n",
       "489  513 Moore Crescent Apt. 416\\nAmandaberg, GU 03...           Magenta   \n",
       "490    7446 Mary Ferry\\nLake Sherryfurt, GA 49066-0207        GhostWhite   \n",
       "491  64147 Alexander Station Apt. 474\\nEast Jasonvi...          SeaShell   \n",
       "492   70128 Zimmerman Overpass\\nRobertsshire, VA 59860          DarkBlue   \n",
       "493  01242 Stephanie Ways Suite 003\\nChurchville, M...    MediumSeaGreen   \n",
       "494    354 Sanchez Wall Suite 884\\nJuliabury, VI 39735     DarkTurquoise   \n",
       "495  4483 Jones Motorway Suite 872\\nLake Jamiefurt,...               Tan   \n",
       "496  172 Owen Divide Suite 497\\nWest Richard, CA 19320     PaleVioletRed   \n",
       "497  0787 Andrews Ranch Apt. 633\\nSouth Chadburgh, ...          Cornsilk   \n",
       "498  680 Jennifer Lodge Apt. 808\\nBrendachester, TX...              Teal   \n",
       "499  49791 Rachel Heights Apt. 898\\nEast Drewboroug...       DarkMagenta   \n",
       "\n",
       "     Avg. Session Length  Time on App  Time on Website  Length of Membership  \\\n",
       "0              34.497268    12.655651        39.577668              4.082621   \n",
       "1              31.926272    11.109461        37.268959              2.664034   \n",
       "2              33.000915    11.330278        37.110597              4.104543   \n",
       "3              34.305557    13.717514        36.721283              3.120179   \n",
       "4              33.330673    12.795189        37.536653              4.446308   \n",
       "5              33.871038    12.026925        34.476878              5.493507   \n",
       "6              32.021596    11.366348        36.683776              4.685017   \n",
       "7              32.739143    12.351959        37.373359              4.434273   \n",
       "8              33.987773    13.386235        37.534497              3.273434   \n",
       "9              31.936549    11.814128        37.145168              3.202806   \n",
       "10             33.992573    13.338975        37.225806              2.482608   \n",
       "11             33.879361    11.584783        37.087926              3.713209   \n",
       "12             29.532429    10.961298        37.420216              4.046423   \n",
       "13             33.190334    12.959226        36.144667              3.918542   \n",
       "14             32.387976    13.148726        36.619957              2.494544   \n",
       "15             30.737720    12.636606        36.213763              3.357847   \n",
       "16             32.125387    11.733862        34.894093              3.136133   \n",
       "17             32.338899    12.013195        38.385137              2.420806   \n",
       "18             32.187812    14.715388        38.244115              1.516576   \n",
       "19             32.617856    13.989593        37.190504              4.064549   \n",
       "20             32.912785    11.365492        37.607793              4.599937   \n",
       "21             33.503087    12.877984        37.441021              1.559152   \n",
       "22             31.531604    13.378563        38.734006              2.245148   \n",
       "23             32.903251    11.657576        36.772604              3.919302   \n",
       "24             34.507551    12.893670        37.635756              5.705154   \n",
       "25             33.029332    11.765813        37.738525              2.721736   \n",
       "26             33.541231    12.783892        36.430650              4.648199   \n",
       "27             32.335990    13.007819        37.851779              2.996365   \n",
       "28             33.110205    11.982045        35.293088              3.923489   \n",
       "29             33.105438    11.965020        37.277812              4.742578   \n",
       "..                   ...          ...              ...                   ...   \n",
       "470            32.518197    11.509253        36.599289              3.022676   \n",
       "471            34.523020    11.405770        36.378271              4.041245   \n",
       "472            33.665990    12.263718        38.860234              3.139527   \n",
       "473            31.609840    12.710701        36.166463              2.562819   \n",
       "474            33.700886    13.471578        37.071643              2.379076   \n",
       "475            33.811733    11.186809        36.298893              4.301996   \n",
       "476            34.336677    11.246813        38.682584              2.094762   \n",
       "477            31.061325    12.357638        36.166042              4.089331   \n",
       "478            33.069768    11.764326        36.875026              3.516051   \n",
       "479            34.606242    11.761884        38.126520              1.820811   \n",
       "480            34.238242    11.550300        35.769330              4.183144   \n",
       "481            32.047815    12.482670        35.536025              3.393903   \n",
       "482            30.971676    11.731364        36.074551              4.426364   \n",
       "483            33.606851    12.214074        37.198428              2.905238   \n",
       "484            33.448125    11.903757        36.874544              2.782758   \n",
       "485            33.369381    12.222484        36.355235              3.447018   \n",
       "486            33.452295    12.005916        36.534096              4.712234   \n",
       "487            32.904692    11.913745        36.058648              1.228112   \n",
       "488            35.630854    12.125402        38.187764              4.019051   \n",
       "489            32.246350    11.305551        37.133127              1.707390   \n",
       "490            34.695591    11.608997        37.684877              3.163092   \n",
       "491            34.343922    11.693058        36.812934              3.447093   \n",
       "492            33.680937    11.201570        37.835448              2.208814   \n",
       "493            32.060914    12.625433        35.539142              5.412358   \n",
       "494            33.431097    13.350632        37.965972              2.768852   \n",
       "495            33.237660    13.566160        36.417985              3.746573   \n",
       "496            34.702529    11.695736        37.190268              3.576526   \n",
       "497            32.646777    11.499409        38.332576              4.958264   \n",
       "498            33.322501    12.391423        36.840086              2.336485   \n",
       "499            33.715981    12.418808        35.771016              2.735160   \n",
       "\n",
       "     Yearly Amount Spent  \n",
       "0             587.951054  \n",
       "1             392.204933  \n",
       "2             487.547505  \n",
       "3             581.852344  \n",
       "4             599.406092  \n",
       "5             637.102448  \n",
       "6             521.572175  \n",
       "7             549.904146  \n",
       "8             570.200409  \n",
       "9             427.199385  \n",
       "10            492.606013  \n",
       "11            522.337405  \n",
       "12            408.640351  \n",
       "13            573.415867  \n",
       "14            470.452733  \n",
       "15            461.780742  \n",
       "16            457.847696  \n",
       "17            407.704547  \n",
       "18            452.315675  \n",
       "19            605.061039  \n",
       "20            534.705744  \n",
       "21            419.938775  \n",
       "22            436.515606  \n",
       "23            519.340989  \n",
       "24            700.917092  \n",
       "25            423.179992  \n",
       "26            619.895640  \n",
       "27            486.838935  \n",
       "28            529.537665  \n",
       "29            554.722084  \n",
       "..                   ...  \n",
       "470           424.728774  \n",
       "471           541.049831  \n",
       "472           469.383146  \n",
       "473           444.545550  \n",
       "474           492.556834  \n",
       "475           535.321610  \n",
       "476           408.958336  \n",
       "477           487.555458  \n",
       "478           487.646232  \n",
       "479           402.167122  \n",
       "480           551.023002  \n",
       "481           497.389558  \n",
       "482           494.638610  \n",
       "483           479.247417  \n",
       "484           462.656519  \n",
       "485           515.502480  \n",
       "486           576.477607  \n",
       "487           357.857984  \n",
       "488           597.739879  \n",
       "489           327.377953  \n",
       "490           510.401388  \n",
       "491           510.501479  \n",
       "492           403.819520  \n",
       "493           627.603319  \n",
       "494           510.661792  \n",
       "495           573.847438  \n",
       "496           529.049004  \n",
       "497           551.620146  \n",
       "498           456.469510  \n",
       "499           497.778642  \n",
       "\n",
       "[500 rows x 8 columns]"
      ]
     },
     "execution_count": 3,
     "metadata": {},
     "output_type": "execute_result"
    }
   ],
   "source": [
    "df"
   ]
  },
  {
   "cell_type": "code",
   "execution_count": null,
   "metadata": {
    "collapsed": true
   },
   "outputs": [],
   "source": []
  },
  {
   "cell_type": "code",
   "execution_count": null,
   "metadata": {
    "collapsed": true
   },
   "outputs": [],
   "source": []
  },
  {
   "cell_type": "markdown",
   "metadata": {},
   "source": [
    "## Exploratory Data Analysis\n",
    "\n",
    "**Let's explore the data!**\n",
    "\n",
    "For the rest of the exercise we'll only be using the numerical data of the csv file.\n",
    "___\n",
    "**Use seaborn to create a jointplot to compare the Time on Website and Yearly Amount Spent columns. Does the correlation make sense?**"
   ]
  },
  {
   "cell_type": "code",
   "execution_count": 4,
   "metadata": {
    "scrolled": true
   },
   "outputs": [
    {
     "data": {
      "text/plain": [
       "<matplotlib.collections.PathCollection at 0x1aab6791438>"
      ]
     },
     "execution_count": 4,
     "metadata": {},
     "output_type": "execute_result"
    },
    {
     "data": {
      "image/png": "[encoded data removed]",
      "text/plain": [
       "<matplotlib.figure.Figure at 0x1aab6605518>"
      ]
     },
     "metadata": {},
     "output_type": "display_data"
    }
   ],
   "source": [
    "plt.scatter(x='Avg. Session Length',y='Yearly Amount Spent',data=df)"
   ]
  },
  {
   "cell_type": "code",
   "execution_count": 5,
   "metadata": {},
   "outputs": [
    {
     "data": {
      "text/plain": [
       "<matplotlib.collections.PathCollection at 0x1aab6cc75c0>"
      ]
     },
     "execution_count": 5,
     "metadata": {},
     "output_type": "execute_result"
    },
    {
     "data": {
      "image/png": "[encoded data removed]",
      "text/plain": [
       "<matplotlib.figure.Figure at 0x1aab66054e0>"
      ]
     },
     "metadata": {},
     "output_type": "display_data"
    }
   ],
   "source": [
    "plt.scatter(x='Time on App',y='Yearly Amount Spent',data=df)"
   ]
  },
  {
   "cell_type": "code",
   "execution_count": 6,
   "metadata": {},
   "outputs": [
    {
     "data": {
      "text/plain": [
       "<matplotlib.collections.PathCollection at 0x1aab6d5bcf8>"
      ]
     },
     "execution_count": 6,
     "metadata": {},
     "output_type": "execute_result"
    },
    {
     "data": {
      "image/png": "[encoded data removed]",
      "text/plain": [
       "<matplotlib.figure.Figure at 0x1aab6ce6320>"
      ]
     },
     "metadata": {},
     "output_type": "display_data"
    }
   ],
   "source": [
    "plt.scatter(x='Time on Website',y='Yearly Amount Spent',data=df)"
   ]
  },
  {
   "cell_type": "code",
   "execution_count": 7,
   "metadata": {},
   "outputs": [
    {
     "data": {
      "text/plain": [
       "<matplotlib.collections.PathCollection at 0x1aab6df8080>"
      ]
     },
     "execution_count": 7,
     "metadata": {},
     "output_type": "execute_result"
    },
    {
     "data": {
      "image/png": "[encoded data removed]",
      "text/plain": [
       "<matplotlib.figure.Figure at 0x1aab6d73748>"
      ]
     },
     "metadata": {},
     "output_type": "display_data"
    }
   ],
   "source": [
    "plt.scatter(x='Length of Membership',y='Yearly Amount Spent',data=df)"
   ]
  },
  {
   "cell_type": "code",
   "execution_count": 8,
   "metadata": {},
   "outputs": [
    {
     "data": {
      "text/html": [
       "<div>\n",
       "<style>\n",
       "    .dataframe thead tr:only-child th {\n",
       "        text-align: right;\n",
       "    }\n",
       "\n",
       "    .dataframe thead th {\n",
       "        text-align: left;\n",
       "    }\n",
       "\n",
       "    .dataframe tbody tr th {\n",
       "        vertical-align: top;\n",
       "    }\n",
       "</style>\n",
       "<table border=\"1\" class=\"dataframe\">\n",
       "  <thead>\n",
       "    <tr style=\"text-align: right;\">\n",
       "      <th></th>\n",
       "      <th>Avg. Session Length</th>\n",
       "      <th>Time on App</th>\n",
       "      <th>Time on Website</th>\n",
       "      <th>Length of Membership</th>\n",
       "      <th>Yearly Amount Spent</th>\n",
       "    </tr>\n",
       "  </thead>\n",
       "  <tbody>\n",
       "    <tr>\n",
       "      <th>Avg. Session Length</th>\n",
       "      <td>1.000000</td>\n",
       "      <td>-0.027826</td>\n",
       "      <td>-0.034987</td>\n",
       "      <td>0.060247</td>\n",
       "      <td>0.355088</td>\n",
       "    </tr>\n",
       "    <tr>\n",
       "      <th>Time on App</th>\n",
       "      <td>-0.027826</td>\n",
       "      <td>1.000000</td>\n",
       "      <td>0.082388</td>\n",
       "      <td>0.029143</td>\n",
       "      <td>0.499328</td>\n",
       "    </tr>\n",
       "    <tr>\n",
       "      <th>Time on Website</th>\n",
       "      <td>-0.034987</td>\n",
       "      <td>0.082388</td>\n",
       "      <td>1.000000</td>\n",
       "      <td>-0.047582</td>\n",
       "      <td>-0.002641</td>\n",
       "    </tr>\n",
       "    <tr>\n",
       "      <th>Length of Membership</th>\n",
       "      <td>0.060247</td>\n",
       "      <td>0.029143</td>\n",
       "      <td>-0.047582</td>\n",
       "      <td>1.000000</td>\n",
       "      <td>0.809084</td>\n",
       "    </tr>\n",
       "    <tr>\n",
       "      <th>Yearly Amount Spent</th>\n",
       "      <td>0.355088</td>\n",
       "      <td>0.499328</td>\n",
       "      <td>-0.002641</td>\n",
       "      <td>0.809084</td>\n",
       "      <td>1.000000</td>\n",
       "    </tr>\n",
       "  </tbody>\n",
       "</table>\n",
       "</div>"
      ],
      "text/plain": [
       "                      Avg. Session Length  Time on App  Time on Website  \\\n",
       "Avg. Session Length              1.000000    -0.027826        -0.034987   \n",
       "Time on App                     -0.027826     1.000000         0.082388   \n",
       "Time on Website                 -0.034987     0.082388         1.000000   \n",
       "Length of Membership             0.060247     0.029143        -0.047582   \n",
       "Yearly Amount Spent              0.355088     0.499328        -0.002641   \n",
       "\n",
       "                      Length of Membership  Yearly Amount Spent  \n",
       "Avg. Session Length               0.060247             0.355088  \n",
       "Time on App                       0.029143             0.499328  \n",
       "Time on Website                  -0.047582            -0.002641  \n",
       "Length of Membership              1.000000             0.809084  \n",
       "Yearly Amount Spent               0.809084             1.000000  "
      ]
     },
     "execution_count": 8,
     "metadata": {},
     "output_type": "execute_result"
    }
   ],
   "source": [
    "df.corr()"
   ]
  },
  {
   "cell_type": "markdown",
   "metadata": {},
   "source": [
    "** Do the same but with the Time on App column instead. **"
   ]
  },
  {
   "cell_type": "code",
   "execution_count": null,
   "metadata": {},
   "outputs": [],
   "source": []
  },
  {
   "cell_type": "markdown",
   "metadata": {},
   "source": [
    "** Use jointplot to create a 2D hex bin plot comparing Time on App and Length of Membership.**"
   ]
  },
  {
   "cell_type": "code",
   "execution_count": null,
   "metadata": {},
   "outputs": [],
   "source": []
  },
  {
   "cell_type": "markdown",
   "metadata": {},
   "source": [
    "**Let's explore these types of relationships across the entire data set. Use [pairplot](https://stanford.edu/~mwaskom/software/seaborn/tutorial/axis_grids.html#plotting-pairwise-relationships-with-pairgrid-and-pairplot) to recreate the plot below.(Don't worry about the the colors)**"
   ]
  },
  {
   "cell_type": "code",
   "execution_count": null,
   "metadata": {},
   "outputs": [],
   "source": []
  },
  {
   "cell_type": "markdown",
   "metadata": {},
   "source": [
    "**Based off this plot what looks to be the most correlated feature with Yearly Amount Spent?**"
   ]
  },
  {
   "cell_type": "code",
   "execution_count": 285,
   "metadata": {
    "collapsed": true
   },
   "outputs": [],
   "source": []
  },
  {
   "cell_type": "markdown",
   "metadata": {},
   "source": [
    "**Create a linear model plot (using seaborn's lmplot) of  Yearly Amount Spent vs. Length of Membership. **"
   ]
  },
  {
   "cell_type": "code",
   "execution_count": 286,
   "metadata": {},
   "outputs": [
    {
     "data": {
      "text/plain": [
       "<seaborn.axisgrid.FacetGrid at 0x13538d0b8>"
      ]
     },
     "execution_count": 286,
     "metadata": {},
     "output_type": "execute_result"
    },
    {
     "data": {
      "image/png": "[encoded data removed]",
      "text/plain": [
       "<matplotlib.figure.Figure at 0x13538d128>"
      ]
     },
     "metadata": {},
     "output_type": "display_data"
    }
   ],
   "source": []
  },
  {
   "cell_type": "markdown",
   "metadata": {},
   "source": [
    "## Training and Testing Data\n",
    "\n",
    "Now that we've explored the data a bit, let's go ahead and split the data into training and testing sets.\n",
    "** Set a variable X equal to the numerical features of the customers and a variable y equal to the \"Yearly Amount Spent\" column. **"
   ]
  },
  {
   "cell_type": "code",
   "execution_count": 9,
   "metadata": {
    "collapsed": true
   },
   "outputs": [],
   "source": [
    "from sklearn.model_selection import train_test_split"
   ]
  },
  {
   "cell_type": "code",
   "execution_count": 10,
   "metadata": {
    "collapsed": true
   },
   "outputs": [],
   "source": [
    "X_train, X_test, y_train, y_test = train_test_split(df[['Avg. Session Length','Time on App','Time on Website','Length of Membership']],df['Yearly Amount Spent'],test_size=0.3,random_state=101)"
   ]
  },
  {
   "cell_type": "markdown",
   "metadata": {},
   "source": [
    "** Use model_selection.train_test_split from sklearn to split the data into training and testing sets. Set test_size=0.3 and random_state=101**"
   ]
  },
  {
   "cell_type": "code",
   "execution_count": 15,
   "metadata": {},
   "outputs": [
    {
     "data": {
      "text/plain": [
       "pandas.core.frame.DataFrame"
      ]
     },
     "execution_count": 15,
     "metadata": {},
     "output_type": "execute_result"
    }
   ],
   "source": [
    "type(X_train)"
   ]
  },
  {
   "cell_type": "code",
   "execution_count": 11,
   "metadata": {},
   "outputs": [
    {
     "data": {
      "text/plain": [
       "(350, 4)"
      ]
     },
     "execution_count": 11,
     "metadata": {},
     "output_type": "execute_result"
    }
   ],
   "source": [
    "X_train.shape"
   ]
  },
  {
   "cell_type": "code",
   "execution_count": 13,
   "metadata": {},
   "outputs": [
    {
     "data": {
      "text/html": [
       "<div>\n",
       "<style>\n",
       "    .dataframe thead tr:only-child th {\n",
       "        text-align: right;\n",
       "    }\n",
       "\n",
       "    .dataframe thead th {\n",
       "        text-align: left;\n",
       "    }\n",
       "\n",
       "    .dataframe tbody tr th {\n",
       "        vertical-align: top;\n",
       "    }\n",
       "</style>\n",
       "<table border=\"1\" class=\"dataframe\">\n",
       "  <thead>\n",
       "    <tr style=\"text-align: right;\">\n",
       "      <th></th>\n",
       "      <th>Avg. Session Length</th>\n",
       "      <th>Time on App</th>\n",
       "      <th>Time on Website</th>\n",
       "      <th>Length of Membership</th>\n",
       "    </tr>\n",
       "  </thead>\n",
       "  <tbody>\n",
       "    <tr>\n",
       "      <th>202</th>\n",
       "      <td>31.525752</td>\n",
       "      <td>11.340036</td>\n",
       "      <td>37.039514</td>\n",
       "      <td>3.811248</td>\n",
       "    </tr>\n",
       "    <tr>\n",
       "      <th>428</th>\n",
       "      <td>31.862741</td>\n",
       "      <td>14.039867</td>\n",
       "      <td>37.022269</td>\n",
       "      <td>3.738225</td>\n",
       "    </tr>\n",
       "    <tr>\n",
       "      <th>392</th>\n",
       "      <td>33.258238</td>\n",
       "      <td>11.514949</td>\n",
       "      <td>37.128039</td>\n",
       "      <td>4.662845</td>\n",
       "    </tr>\n",
       "    <tr>\n",
       "      <th>86</th>\n",
       "      <td>33.877779</td>\n",
       "      <td>12.517666</td>\n",
       "      <td>37.151921</td>\n",
       "      <td>2.669942</td>\n",
       "    </tr>\n",
       "    <tr>\n",
       "      <th>443</th>\n",
       "      <td>33.025020</td>\n",
       "      <td>12.504220</td>\n",
       "      <td>37.645839</td>\n",
       "      <td>4.051382</td>\n",
       "    </tr>\n",
       "  </tbody>\n",
       "</table>\n",
       "</div>"
      ],
      "text/plain": [
       "     Avg. Session Length  Time on App  Time on Website  Length of Membership\n",
       "202            31.525752    11.340036        37.039514              3.811248\n",
       "428            31.862741    14.039867        37.022269              3.738225\n",
       "392            33.258238    11.514949        37.128039              4.662845\n",
       "86             33.877779    12.517666        37.151921              2.669942\n",
       "443            33.025020    12.504220        37.645839              4.051382"
      ]
     },
     "execution_count": 13,
     "metadata": {},
     "output_type": "execute_result"
    }
   ],
   "source": [
    "X_train.head()"
   ]
  },
  {
   "cell_type": "code",
   "execution_count": 12,
   "metadata": {},
   "outputs": [
    {
     "data": {
      "text/plain": [
       "(150, 4)"
      ]
     },
     "execution_count": 12,
     "metadata": {},
     "output_type": "execute_result"
    }
   ],
   "source": [
    "X_test.shape"
   ]
  },
  {
   "cell_type": "markdown",
   "metadata": {},
   "source": [
    "## Training the Model\n",
    "\n",
    "Now its time to train our model on our training data!\n",
    "\n",
    "** Import LinearRegression from sklearn.linear_model **"
   ]
  },
  {
   "cell_type": "code",
   "execution_count": 15,
   "metadata": {
    "collapsed": true
   },
   "outputs": [],
   "source": [
    "from sklearn.linear_model import LinearRegression"
   ]
  },
  {
   "cell_type": "code",
   "execution_count": null,
   "metadata": {
    "collapsed": true
   },
   "outputs": [],
   "source": []
  },
  {
   "cell_type": "code",
   "execution_count": 16,
   "metadata": {
    "collapsed": true,
    "scrolled": true
   },
   "outputs": [],
   "source": [
    "lm= LinearRegression()"
   ]
  },
  {
   "cell_type": "markdown",
   "metadata": {},
   "source": [
    "**Create an instance of a LinearRegression() model named lm.**"
   ]
  },
  {
   "cell_type": "code",
   "execution_count": 17,
   "metadata": {
    "collapsed": true
   },
   "outputs": [],
   "source": [
    "lm= LinearRegression()"
   ]
  },
  {
   "cell_type": "code",
   "execution_count": null,
   "metadata": {
    "collapsed": true
   },
   "outputs": [],
   "source": []
  },
  {
   "cell_type": "markdown",
   "metadata": {},
   "source": [
    "** Train/fit lm on the training data.**"
   ]
  },
  {
   "cell_type": "code",
   "execution_count": 18,
   "metadata": {},
   "outputs": [
    {
     "data": {
      "text/plain": [
       "LinearRegression(copy_X=True, fit_intercept=True, n_jobs=1, normalize=False)"
      ]
     },
     "execution_count": 18,
     "metadata": {},
     "output_type": "execute_result"
    }
   ],
   "source": [
    "lm.fit(X_train,y_train)"
   ]
  },
  {
   "cell_type": "markdown",
   "metadata": {},
   "source": [
    "**Print out the coefficients of the model**"
   ]
  },
  {
   "cell_type": "code",
   "execution_count": 19,
   "metadata": {
    "scrolled": true
   },
   "outputs": [
    {
     "data": {
      "text/plain": [
       "array([ 25.98154972,  38.59015876,   0.19040527,  61.27909654])"
      ]
     },
     "execution_count": 19,
     "metadata": {},
     "output_type": "execute_result"
    }
   ],
   "source": [
    "lm.coef_"
   ]
  },
  {
   "cell_type": "code",
   "execution_count": 20,
   "metadata": {},
   "outputs": [
    {
     "data": {
      "text/plain": [
       "-1047.9327819531541"
      ]
     },
     "execution_count": 20,
     "metadata": {},
     "output_type": "execute_result"
    }
   ],
   "source": [
    "lm.intercept_"
   ]
  },
  {
   "cell_type": "code",
   "execution_count": 21,
   "metadata": {
    "collapsed": true
   },
   "outputs": [],
   "source": [
    "pred = lm.predict(X_train)"
   ]
  },
  {
   "cell_type": "code",
   "execution_count": 30,
   "metadata": {
    "collapsed": true
   },
   "outputs": [],
   "source": [
    "actual=np.array(y_train)"
   ]
  },
  {
   "cell_type": "code",
   "execution_count": 31,
   "metadata": {},
   "outputs": [
    {
     "data": {
      "text/plain": [
       "array([ 443.9656268,  556.2981412,  549.1315733,  487.379306 ,\n",
       "        561.516532 ,  537.8252823,  444.582165 ,  542.4124767,\n",
       "        549.0082269,  439.0747667,  432.7207178,  510.5394217,\n",
       "        626.0186727,  576.8025474,  427.1993849,  532.7174857,\n",
       "        424.675281 ,  486.9470538,  537.9157529,  530.3624689,\n",
       "        392.810345 ,  457.8476959,  452.1226251,  530.7667187,\n",
       "        501.8744303,  581.7987977,  538.9419745,  478.2621264,\n",
       "        558.4272572,  506.42386  ,  473.3604956,  511.0387861,\n",
       "        501.7492333,  567.4750105,  610.1280331,  442.7228916,\n",
       "        549.8605905,  657.0199239,  444.9665517,  446.4186734,\n",
       "        424.1854943,  424.7626355,  508.7719067,  449.0703194,\n",
       "        541.049831 ,  689.2356998,  488.7860611,  468.9135013,\n",
       "        514.3365583,  578.9862586,  585.9318443,  557.5292736,\n",
       "        423.4705332,  432.4720613,  616.851523 ,  512.5525344,\n",
       "        420.9161595,  447.1876443,  407.8040306,  592.6884532,\n",
       "        385.152338 ,  494.6871558,  420.7376732,  479.1728515,\n",
       "        604.8413188,  594.2744834,  468.6684656,  527.7829958,\n",
       "        608.2718166,  554.7220838,  438.417742 ,  458.7811317,\n",
       "        512.8253581,  496.5540816,  398.1634685,  439.8912805,\n",
       "        478.6009159,  491.0732237,  469.3831462,  578.2416051,\n",
       "        462.6565189,  413.2959992,  436.7205559,  407.542168 ,\n",
       "        495.1759504,  442.3631174,  475.0716299,  482.1449969,\n",
       "        534.7771881,  581.3089329,  534.7057438,  571.3074949,\n",
       "        407.6571788,  468.4457372,  479.6148117,  536.4231045,\n",
       "        498.6355985,  482.3535703,  382.4161079,  338.3198626,\n",
       "        524.6379646,  529.0490041,  574.6548434,  308.5277466,\n",
       "        647.6194557,  574.7472197,  387.5347163,  576.4776072,\n",
       "        493.719193 ,  275.9184207,  521.1953105,  503.2173931,\n",
       "        551.0230017,  536.7718994,  424.2028271,  528.2238094,\n",
       "        554.900783 ,  570.4517259,  451.6286105,  666.1255917,\n",
       "        413.3717831,  521.8835732,  490.7386321,  507.4418323,\n",
       "        392.2049334,  584.105885 ,  424.7287739,  390.103273 ,\n",
       "        426.775216 ,  488.270298 ,  385.0950071,  456.4695101,\n",
       "        627.6033187,  510.5014785,  423.1799917,  574.4156896,\n",
       "        508.735741 ,  378.4735664,  597.7398789,  479.2474168,\n",
       "        591.4377356,  412.0129313,  583.977802 ,  494.6386098,\n",
       "        663.0748176,  547.1907494,  436.5156057,  591.1971782,\n",
       "        521.5721748,  442.0644138,  547.1259317,  725.5848141,\n",
       "        489.812488 ,  660.4251843,  528.309225 ,  545.9454921,\n",
       "        505.7711403,  522.4041413,  630.4227632,  553.6015347,\n",
       "        397.4205841,  619.8956399,  684.163431 ,  485.9231305,\n",
       "        531.9615505,  514.2395207,  521.1429518,  612.3852299,\n",
       "        663.8036933,  533.5149353,  460.0612774,  330.594446 ,\n",
       "        418.6027421,  510.6617922,  540.9957391,  441.8966315,\n",
       "        463.4849954,  507.212569 ,  352.5501082,  408.6201878,\n",
       "        475.7590678,  431.6177338,  282.4712457,  469.3108615,\n",
       "        497.7786422,  541.226584 ,  409.0945262,  497.81193  ,\n",
       "        584.2183135,  614.7153338,  489.9080531,  496.9334463,\n",
       "        487.6462317,  302.1895478,  593.1564015,  430.5888826,\n",
       "        403.8195198,  515.5024797,  517.1651356,  511.97986  ,\n",
       "        503.3878873,  384.6265716,  444.0538266,  402.1671222,\n",
       "        463.923513 ,  577.273455 ,  478.9514048,  544.7798637,\n",
       "        596.4301726,  357.8579836,  528.9336186,  689.7876042,\n",
       "        497.3895578,  486.8389348,  427.3565308,  467.5019004,\n",
       "        640.5840619,  514.0889577,  482.6024673,  501.2091727,\n",
       "        519.3409891,  419.9387748,  465.8893127,  471.6028844,\n",
       "        483.7965221,  573.3062223,  593.915003 ,  357.7831107,\n",
       "        547.1109824,  562.0820454,  490.2066   ,  591.7810894,\n",
       "        461.6282784,  595.8228367,  502.0925279,  512.1658664,\n",
       "        630.1567282,  376.4968407,  576.3111774,  546.5566669,\n",
       "        662.9610878,  523.6339351,  470.4527333,  266.0863409,\n",
       "        501.1224915,  408.9583359,  581.852344 ,  529.5376653,\n",
       "        422.4267759,  478.584286 ,  484.8769649,  515.8288149,\n",
       "        388.9405488,  496.6507081,  529.1945189,  550.8133677,\n",
       "        298.7620079,  433.0487691,  357.8637186,  436.2834981,\n",
       "        563.6728734,  465.1766233,  407.8763782,  475.2634237,\n",
       "        486.1637991,  486.0834255,  438.3037078,  589.0264898,\n",
       "        423.3083341,  392.9922559,  492.6060127,  497.5866713,\n",
       "        483.5431939,  543.1326263,  476.7667242,  527.7837898,\n",
       "        478.1830597,  555.8925954,  558.9481124,  392.4973992,\n",
       "        448.340425 ,  640.7861664,  448.9332932,  384.3260571,\n",
       "        479.2310929,  587.951054 ,  473.9498574,  408.2169018,\n",
       "        513.1531119,  557.2526867,  528.4193297,  314.4385183,\n",
       "        445.0621855,  421.3266313,  557.634109 ,  492.1050524,\n",
       "        499.1401524,  583.0796357,  392.2852442,  549.9041461,\n",
       "        596.516698 ,  463.591418 ,  495.2994425,  550.0475806,\n",
       "        613.5993234,  614.7296376,  538.7749335,  497.5136833,\n",
       "        474.5323294,  576.0252441,  378.3309069,  604.3348401,\n",
       "        444.2859075,  557.6082621,  516.8315567,  570.6300981,\n",
       "        518.7864831,  422.3687366,  448.2298292,  475.7250679,\n",
       "        547.3651406,  444.5455497,  493.1812614,  447.3690272,\n",
       "        529.2300901,  492.9450531,  476.1392469,  416.3583536,\n",
       "        510.4013885,  487.5554581,  669.9871405,  637.1024479,\n",
       "        459.2851235,  505.1196375,  519.3729768,  466.4211988,\n",
       "        409.0704721,  491.9115051,  573.8474377,  452.627255 ,\n",
       "        532.7517876,  502.7710746,  482.8309859,  478.7193569,\n",
       "        473.7289665,  483.1597208,  505.2300683,  440.0027475,\n",
       "        522.3374046,  533.3965538])"
      ]
     },
     "execution_count": 31,
     "metadata": {},
     "output_type": "execute_result"
    }
   ],
   "source": [
    "actual"
   ]
  },
  {
   "cell_type": "code",
   "execution_count": 32,
   "metadata": {
    "collapsed": true
   },
   "outputs": [],
   "source": [
    "predicted=np.array(pred)"
   ]
  },
  {
   "cell_type": "code",
   "execution_count": 33,
   "metadata": {},
   "outputs": [
    {
     "data": {
      "text/plain": [
       "array([ 449.37127213,  557.83561337,  553.33581251,  486.00868684,\n",
       "        548.08127179,  543.12284473,  451.80174891,  532.44853628,\n",
       "        548.55590612,  445.93337521,  429.89484899,  486.67639881,\n",
       "        610.19728999,  570.11643898,  441.07502853,  537.64889906,\n",
       "        417.22470067,  508.2930709 ,  543.36633139,  510.25529229,\n",
       "        397.09772498,  438.36953921,  458.8779589 ,  534.25313707,\n",
       "        512.20525762,  577.71850993,  532.66056208,  487.79200475,\n",
       "        558.65778381,  508.09583483,  479.41721638,  507.07816472,\n",
       "        523.22112096,  551.18984103,  604.06701734,  435.98235173,\n",
       "        551.46469245,  661.81934023,  438.57522095,  448.94639239,\n",
       "        394.91513524,  442.92542602,  504.32536031,  438.7410389 ,\n",
       "        543.7497164 ,  675.61640348,  498.70360498,  492.42040565,\n",
       "        505.81620143,  573.24853232,  589.00260194,  553.0736847 ,\n",
       "        427.66168663,  429.72684558,  606.06215771,  523.90349608,\n",
       "        422.50784699,  463.64333784,  396.33089482,  581.12361598,\n",
       "        384.47267174,  498.81207987,  402.03453944,  461.03285519,\n",
       "        615.15003909,  588.17872912,  456.31017942,  524.61350496,\n",
       "        607.73319823,  571.6485788 ,  445.91783544,  465.05827417,\n",
       "        500.44486475,  500.75190753,  412.35750063,  450.4552213 ,\n",
       "        477.3886885 ,  488.32134   ,  499.80719929,  563.61027718,\n",
       "        458.01519422,  414.55611186,  431.37370158,  424.54209683,\n",
       "        491.01878647,  445.05945474,  480.37758914,  476.40771629,\n",
       "        542.1747241 ,  601.64633433,  534.82925   ,  576.8316115 ,\n",
       "        396.39358422,  469.20883083,  478.81053063,  539.546804  ,\n",
       "        484.1430092 ,  482.8121295 ,  399.59928975,  338.10803132,\n",
       "        511.91464334,  531.28051997,  583.64089252,  316.99128407,\n",
       "        651.71196477,  568.23950944,  389.96247923,  580.23761069,\n",
       "        480.92712628,  280.53250903,  506.78846413,  512.19198571,\n",
       "        550.50765075,  547.73477355,  407.57242488,  528.52789889,\n",
       "        563.91611194,  556.00002228,  433.02916087,  671.88444581,\n",
       "        414.83778321,  517.09774031,  487.05261967,  513.26734401,\n",
       "        380.62290952,  581.59803089,  433.27982039,  399.30310087,\n",
       "        427.60222758,  497.53512316,  385.33105254,  446.21663237,\n",
       "        610.70814823,  513.85662013,  438.23616311,  576.90499074,\n",
       "        500.846399  ,  372.77521439,  599.28819813,  481.68148741,\n",
       "        588.79476675,  410.02250536,  586.0463848 ,  487.58693555,\n",
       "        656.99082419,  536.3201949 ,  432.54381621,  578.03679922,\n",
       "        516.74548796,  441.4522932 ,  564.56604973,  724.34769453,\n",
       "        494.38092642,  671.32349437,  541.00279789,  563.24130664,\n",
       "        515.7398526 ,  517.03432574,  616.1535808 ,  553.39438196,\n",
       "        405.33382198,  608.6268427 ,  683.9371763 ,  500.65861306,\n",
       "        526.96385087,  498.67795676,  548.22732953,  609.59147908,\n",
       "        648.32510755,  527.7256975 ,  478.7571613 ,  326.10237181,\n",
       "        425.9068381 ,  512.76359227,  543.68740775,  439.92142871,\n",
       "        460.68669033,  500.51528394,  357.82693218,  408.47893451,\n",
       "        475.11039342,  435.21629373,  288.16837795,  478.83159057,\n",
       "        481.72353456,  542.70297195,  417.83472916,  473.92611779,\n",
       "        590.29171562,  623.15273821,  503.87932633,  494.54348284,\n",
       "        487.73988286,  285.82432493,  587.74482844,  426.71198785,\n",
       "        401.97869136,  508.87540822,  513.91554199,  507.20633171,\n",
       "        509.54406195,  374.07791136,  468.05861159,  423.92111003,\n",
       "        452.61652859,  570.74750853,  476.03295746,  535.13473285,\n",
       "        618.98728365,  348.85881378,  532.2300584 ,  684.73805037,\n",
       "        481.16886422,  485.0018465 ,  417.38757455,  471.61445964,\n",
       "        645.82017185,  509.08290037,  489.91131988,  492.12987465,\n",
       "        503.98537674,  422.16517104,  464.31732306,  466.68474129,\n",
       "        481.09925346,  583.28061487,  602.11577352,  340.60215456,\n",
       "        537.74371325,  543.53207751,  493.5863084 ,  569.2040225 ,\n",
       "        469.35082908,  610.63188253,  497.03846403,  518.5493552 ,\n",
       "        628.03416705,  392.37885059,  554.75470929,  552.82463795,\n",
       "        642.90904549,  525.81987292,  460.80444862,  283.56035664,\n",
       "        518.74777259,  413.93405902,  570.93343628,  521.85851108,\n",
       "        426.23067784,  478.56356207,  481.62492589,  523.57222277,\n",
       "        395.25400451,  481.77887742,  531.71299376,  531.19111614,\n",
       "        306.73756051,  444.93412957,  353.38377015,  452.08766078,\n",
       "        562.58580635,  472.00376439,  419.67948808,  468.3964417 ,\n",
       "        508.01669857,  476.79459893,  448.36288852,  601.28288212,\n",
       "        434.68999156,  398.78367194,  509.22006888,  485.15623619,\n",
       "        478.80899348,  535.68568271,  464.25084521,  517.37497802,\n",
       "        480.01645797,  558.13258321,  569.6846788 ,  387.56205716,\n",
       "        461.71404547,  634.17251202,  461.64092649,  377.26697234,\n",
       "        472.73460555,  594.45838238,  491.02635672,  435.77371895,\n",
       "        514.02444863,  563.86069711,  523.43705871,  315.2661594 ,\n",
       "        432.65273001,  422.20826744,  556.83015364,  495.77447241,\n",
       "        500.93440229,  584.41694987,  398.28640438,  558.18930022,\n",
       "        593.59461516,  444.15998564,  489.25431561,  552.84484637,\n",
       "        620.70799593,  598.27021717,  544.95353376,  512.79314226,\n",
       "        494.5896096 ,  575.94723916,  390.09603116,  600.02351855,\n",
       "        450.55103716,  569.09508574,  520.60259593,  566.79696729,\n",
       "        519.3962154 ,  420.4548101 ,  447.6033482 ,  501.8892179 ,\n",
       "        545.0407103 ,  427.7813242 ,  497.495127  ,  431.01857476,\n",
       "        518.47153912,  489.05664968,  474.14881279,  417.48625999,\n",
       "        502.51230068,  493.44850297,  682.46308615,  639.41196842,\n",
       "        461.62169697,  512.67995751,  518.43386046,  458.61149332,\n",
       "        396.22637012,  497.71683652,  575.67416969,  458.02649283,\n",
       "        531.49040778,  496.27120951,  475.3345397 ,  455.64049375,\n",
       "        469.73445742,  470.7178667 ,  506.95749494,  449.30095938,\n",
       "        513.96797269,  529.7492761 ])"
      ]
     },
     "execution_count": 33,
     "metadata": {},
     "output_type": "execute_result"
    }
   ],
   "source": [
    "predicted"
   ]
  },
  {
   "cell_type": "code",
   "execution_count": 53,
   "metadata": {
    "collapsed": true
   },
   "outputs": [],
   "source": [
    "del df1"
   ]
  },
  {
   "cell_type": "code",
   "execution_count": 54,
   "metadata": {
    "collapsed": true
   },
   "outputs": [],
   "source": [
    "residual=actual-predicted"
   ]
  },
  {
   "cell_type": "code",
   "execution_count": 55,
   "metadata": {},
   "outputs": [
    {
     "data": {
      "text/plain": [
       "array([ -5.40564533e+00,  -1.53747217e+00,  -4.20423921e+00,\n",
       "         1.37061916e+00,   1.34352602e+01,  -5.29756243e+00,\n",
       "        -7.21958391e+00,   9.96394042e+00,   4.52320785e-01,\n",
       "        -6.85860851e+00,   2.82586881e+00,   2.38630229e+01,\n",
       "         1.58213827e+01,   6.68610842e+00,  -1.38756436e+01,\n",
       "        -4.93141336e+00,   7.45058033e+00,  -2.13460171e+01,\n",
       "        -5.45057849e+00,   2.01071766e+01,  -4.28737998e+00,\n",
       "         1.94781567e+01,  -6.75533380e+00,  -3.48641837e+00,\n",
       "        -1.03308273e+01,   4.08028777e+00,   6.28141242e+00,\n",
       "        -9.52987835e+00,  -2.30526612e-01,  -1.67197483e+00,\n",
       "        -6.05672078e+00,   3.96062138e+00,  -2.14718877e+01,\n",
       "         1.62851695e+01,   6.06101576e+00,   6.74053987e+00,\n",
       "        -1.60410195e+00,  -4.79941633e+00,   6.39133075e+00,\n",
       "        -2.52771899e+00,   2.92703591e+01,  -1.81627905e+01,\n",
       "         4.44654639e+00,   1.03292805e+01,  -2.69988540e+00,\n",
       "         1.36192963e+01,  -9.91754388e+00,  -2.35069044e+01,\n",
       "         8.52035687e+00,   5.73772628e+00,  -3.07075764e+00,\n",
       "         4.45558890e+00,  -4.19115343e+00,   2.74521572e+00,\n",
       "         1.07893653e+01,  -1.13509617e+01,  -1.59168749e+00,\n",
       "        -1.64556935e+01,   1.14731358e+01,   1.15648372e+01,\n",
       "         6.79666264e-01,  -4.12492407e+00,   1.87031338e+01,\n",
       "         1.81399963e+01,  -1.03087203e+01,   6.09575428e+00,\n",
       "         1.23582862e+01,   3.16949084e+00,   5.38618368e-01,\n",
       "        -1.69264950e+01,  -7.50009344e+00,  -6.27714247e+00,\n",
       "         1.23804934e+01,  -4.19782593e+00,  -1.41940321e+01,\n",
       "        -1.05639408e+01,   1.21222740e+00,   2.75188370e+00,\n",
       "        -3.04240531e+01,   1.46313279e+01,   4.64132468e+00,\n",
       "        -1.26011266e+00,   5.34685432e+00,  -1.69999288e+01,\n",
       "         4.15716393e+00,  -2.69633734e+00,  -5.30595924e+00,\n",
       "         5.73728061e+00,  -7.39753600e+00,  -2.03374014e+01,\n",
       "        -1.23506197e-01,  -5.52411660e+00,   1.12635946e+01,\n",
       "        -7.63093634e-01,   8.04281069e-01,  -3.12369950e+00,\n",
       "         1.44925893e+01,  -4.58559203e-01,  -1.71831818e+01,\n",
       "         2.11831281e-01,   1.27233213e+01,  -2.23151587e+00,\n",
       "        -8.98604912e+00,  -8.46353747e+00,  -4.09250907e+00,\n",
       "         6.50771026e+00,  -2.42776293e+00,  -3.76000349e+00,\n",
       "         1.27920667e+01,  -4.61408833e+00,   1.44068464e+01,\n",
       "        -8.97459261e+00,   5.15350952e-01,  -1.09628741e+01,\n",
       "         1.66304022e+01,  -3.04089486e-01,  -9.01532894e+00,\n",
       "         1.44517036e+01,   1.85994496e+01,  -5.75885411e+00,\n",
       "        -1.46600011e+00,   4.78583289e+00,   3.68601243e+00,\n",
       "        -5.82551171e+00,   1.15820239e+01,   2.50785411e+00,\n",
       "        -8.55104649e+00,  -9.19982787e+00,  -8.27011577e-01,\n",
       "        -9.26482516e+00,  -2.36045443e-01,   1.02528777e+01,\n",
       "         1.68951705e+01,  -3.35514163e+00,  -1.50561714e+01,\n",
       "        -2.48930114e+00,   7.88934200e+00,   5.69835201e+00,\n",
       "        -1.54831923e+00,  -2.43407061e+00,   2.64296885e+00,\n",
       "         1.99042594e+00,  -2.06858280e+00,   7.05167425e+00,\n",
       "         6.08399341e+00,   1.08705545e+01,   3.97178949e+00,\n",
       "         1.31603790e+01,   4.82668684e+00,   6.12120601e-01,\n",
       "        -1.74401180e+01,   1.23711957e+00,  -4.56843842e+00,\n",
       "        -1.08983101e+01,  -1.26935729e+01,  -1.72958145e+01,\n",
       "        -9.96871230e+00,   5.36981556e+00,   1.42691824e+01,\n",
       "         2.07152739e-01,  -7.91323788e+00,   1.12687972e+01,\n",
       "         2.26254702e-01,  -1.47354826e+01,   4.99769963e+00,\n",
       "         1.55615639e+01,  -2.70843777e+01,   2.79375082e+00,\n",
       "         1.54785858e+01,   5.78923780e+00,  -1.86958839e+01,\n",
       "         4.49207419e+00,  -7.30409600e+00,  -2.10180007e+00,\n",
       "        -2.69166865e+00,   1.97520279e+00,   2.79830507e+00,\n",
       "         6.69728506e+00,  -5.27682398e+00,   1.41253293e-01,\n",
       "         6.48674378e-01,  -3.59855993e+00,  -5.69713225e+00,\n",
       "        -9.52072907e+00,   1.60551076e+01,  -1.47638795e+00,\n",
       "        -8.74020296e+00,   2.38858122e+01,  -6.07340212e+00,\n",
       "        -8.43740441e+00,  -1.39712732e+01,   2.38996346e+00,\n",
       "        -9.36511637e-02,   1.63652229e+01,   5.41157306e+00,\n",
       "         3.87689475e+00,   1.84082844e+00,   6.62707148e+00,\n",
       "         3.24959361e+00,   4.77352829e+00,  -6.15617465e+00,\n",
       "         1.05486602e+01,  -2.40047850e+01,  -2.17539878e+01,\n",
       "         1.13069844e+01,   6.52594647e+00,   2.91844734e+00,\n",
       "         9.64513085e+00,  -2.25571111e+01,   8.99916982e+00,\n",
       "        -3.29643980e+00,   5.04955383e+00,   1.62206936e+01,\n",
       "         1.83708830e+00,   9.96895625e+00,  -4.11255924e+00,\n",
       "        -5.23610995e+00,   5.00605733e+00,  -7.30885258e+00,\n",
       "         9.07929805e+00,   1.53556124e+01,  -2.22639624e+00,\n",
       "         1.57198964e+00,   4.91814311e+00,   2.69726864e+00,\n",
       "        -9.97439257e+00,  -8.20077052e+00,   1.71809561e+01,\n",
       "         9.36726915e+00,   1.85499679e+01,  -3.37970840e+00,\n",
       "         2.25770669e+01,  -7.72255068e+00,  -1.48090458e+01,\n",
       "         5.05406387e+00,  -6.38348880e+00,   2.12256115e+00,\n",
       "        -1.58820099e+01,   2.15564681e+01,  -6.26797105e+00,\n",
       "         2.00520423e+01,  -2.18593782e+00,   9.64828468e+00,\n",
       "        -1.74740157e+01,  -1.76252811e+01,  -4.97572312e+00,\n",
       "         1.09189077e+01,   7.67915422e+00,  -3.80390194e+00,\n",
       "         2.07239330e-02,   3.25203901e+00,  -7.74340787e+00,\n",
       "        -6.31345571e+00,   1.48718307e+01,  -2.51847486e+00,\n",
       "         1.96222516e+01,  -7.97555261e+00,  -1.18853605e+01,\n",
       "         4.47994845e+00,  -1.58041627e+01,   1.08706705e+00,\n",
       "        -6.82714109e+00,  -1.18031099e+01,   6.86698200e+00,\n",
       "        -2.18528995e+01,   9.28882657e+00,  -1.00591807e+01,\n",
       "        -1.22563923e+01,  -1.13816575e+01,  -5.79141604e+00,\n",
       "        -1.66140562e+01,   1.24304351e+01,   4.73420042e+00,\n",
       "         7.44694359e+00,   1.25158790e+01,   1.04088118e+01,\n",
       "        -1.83339827e+00,  -2.23998781e+00,  -1.07365664e+01,\n",
       "         4.93534204e+00,  -1.33736205e+01,   6.61365438e+00,\n",
       "        -1.27076333e+01,   7.05908476e+00,   6.49648735e+00,\n",
       "        -6.50732838e+00,  -1.70764993e+01,  -2.75568171e+01,\n",
       "        -8.71336729e-01,  -6.60801041e+00,   4.98227099e+00,\n",
       "        -8.27641096e-01,   1.24094555e+01,  -8.81636138e-01,\n",
       "         8.03955362e-01,  -3.66942001e+00,  -1.79424989e+00,\n",
       "        -1.33731417e+00,  -6.00116018e+00,  -8.28515412e+00,\n",
       "         2.92208284e+00,   1.94314324e+01,   6.04512689e+00,\n",
       "        -2.79726577e+00,  -7.10867253e+00,   1.64594204e+01,\n",
       "        -6.17860026e+00,  -1.52794590e+01,  -2.00572802e+01,\n",
       "         7.80049431e-02,  -1.17651243e+01,   4.31132155e+00,\n",
       "        -6.26512966e+00,  -1.14868236e+01,  -3.77103923e+00,\n",
       "         3.83313081e+00,  -6.09732299e-01,   1.91392650e+00,\n",
       "         6.26480996e-01,  -2.61641500e+01,   2.32443030e+00,\n",
       "         1.67642255e+01,  -4.31386560e+00,   1.63504524e+01,\n",
       "         1.07585510e+01,   3.88840342e+00,   1.99043411e+00,\n",
       "        -1.12790639e+00,   7.88908782e+00,  -5.89304487e+00,\n",
       "        -1.24759457e+01,  -2.30952052e+00,  -2.33657347e+00,\n",
       "        -7.56032001e+00,   9.39116342e-01,   7.80970548e+00,\n",
       "         1.28441020e+01,  -5.80533142e+00,  -1.82673199e+00,\n",
       "        -5.39923783e+00,   1.26137982e+00,   6.49986509e+00,\n",
       "         7.49644620e+00,   2.30788631e+01,   3.99450908e+00,\n",
       "         1.24418541e+01,  -1.72742664e+00,  -9.29821188e+00,\n",
       "         8.36943191e+00,   3.64727770e+00])"
      ]
     },
     "execution_count": 55,
     "metadata": {},
     "output_type": "execute_result"
    }
   ],
   "source": [
    "residual"
   ]
  },
  {
   "cell_type": "code",
   "execution_count": 56,
   "metadata": {
    "collapsed": true
   },
   "outputs": [],
   "source": [
    "df1=pd.DataFrame({'actual_train':actual,'predicted_train':predicted,'error':residual})"
   ]
  },
  {
   "cell_type": "code",
   "execution_count": 57,
   "metadata": {},
   "outputs": [
    {
     "data": {
      "text/html": [
       "<div>\n",
       "<style>\n",
       "    .dataframe thead tr:only-child th {\n",
       "        text-align: right;\n",
       "    }\n",
       "\n",
       "    .dataframe thead th {\n",
       "        text-align: left;\n",
       "    }\n",
       "\n",
       "    .dataframe tbody tr th {\n",
       "        vertical-align: top;\n",
       "    }\n",
       "</style>\n",
       "<table border=\"1\" class=\"dataframe\">\n",
       "  <thead>\n",
       "    <tr style=\"text-align: right;\">\n",
       "      <th></th>\n",
       "      <th>actual_train</th>\n",
       "      <th>error</th>\n",
       "      <th>predicted_train</th>\n",
       "    </tr>\n",
       "  </thead>\n",
       "  <tbody>\n",
       "    <tr>\n",
       "      <th>0</th>\n",
       "      <td>443.965627</td>\n",
       "      <td>-5.405645</td>\n",
       "      <td>449.371272</td>\n",
       "    </tr>\n",
       "    <tr>\n",
       "      <th>1</th>\n",
       "      <td>556.298141</td>\n",
       "      <td>-1.537472</td>\n",
       "      <td>557.835613</td>\n",
       "    </tr>\n",
       "    <tr>\n",
       "      <th>2</th>\n",
       "      <td>549.131573</td>\n",
       "      <td>-4.204239</td>\n",
       "      <td>553.335813</td>\n",
       "    </tr>\n",
       "    <tr>\n",
       "      <th>3</th>\n",
       "      <td>487.379306</td>\n",
       "      <td>1.370619</td>\n",
       "      <td>486.008687</td>\n",
       "    </tr>\n",
       "    <tr>\n",
       "      <th>4</th>\n",
       "      <td>561.516532</td>\n",
       "      <td>13.435260</td>\n",
       "      <td>548.081272</td>\n",
       "    </tr>\n",
       "    <tr>\n",
       "      <th>5</th>\n",
       "      <td>537.825282</td>\n",
       "      <td>-5.297562</td>\n",
       "      <td>543.122845</td>\n",
       "    </tr>\n",
       "    <tr>\n",
       "      <th>6</th>\n",
       "      <td>444.582165</td>\n",
       "      <td>-7.219584</td>\n",
       "      <td>451.801749</td>\n",
       "    </tr>\n",
       "    <tr>\n",
       "      <th>7</th>\n",
       "      <td>542.412477</td>\n",
       "      <td>9.963940</td>\n",
       "      <td>532.448536</td>\n",
       "    </tr>\n",
       "    <tr>\n",
       "      <th>8</th>\n",
       "      <td>549.008227</td>\n",
       "      <td>0.452321</td>\n",
       "      <td>548.555906</td>\n",
       "    </tr>\n",
       "    <tr>\n",
       "      <th>9</th>\n",
       "      <td>439.074767</td>\n",
       "      <td>-6.858609</td>\n",
       "      <td>445.933375</td>\n",
       "    </tr>\n",
       "    <tr>\n",
       "      <th>10</th>\n",
       "      <td>432.720718</td>\n",
       "      <td>2.825869</td>\n",
       "      <td>429.894849</td>\n",
       "    </tr>\n",
       "    <tr>\n",
       "      <th>11</th>\n",
       "      <td>510.539422</td>\n",
       "      <td>23.863023</td>\n",
       "      <td>486.676399</td>\n",
       "    </tr>\n",
       "    <tr>\n",
       "      <th>12</th>\n",
       "      <td>626.018673</td>\n",
       "      <td>15.821383</td>\n",
       "      <td>610.197290</td>\n",
       "    </tr>\n",
       "    <tr>\n",
       "      <th>13</th>\n",
       "      <td>576.802547</td>\n",
       "      <td>6.686108</td>\n",
       "      <td>570.116439</td>\n",
       "    </tr>\n",
       "    <tr>\n",
       "      <th>14</th>\n",
       "      <td>427.199385</td>\n",
       "      <td>-13.875644</td>\n",
       "      <td>441.075029</td>\n",
       "    </tr>\n",
       "    <tr>\n",
       "      <th>15</th>\n",
       "      <td>532.717486</td>\n",
       "      <td>-4.931413</td>\n",
       "      <td>537.648899</td>\n",
       "    </tr>\n",
       "    <tr>\n",
       "      <th>16</th>\n",
       "      <td>424.675281</td>\n",
       "      <td>7.450580</td>\n",
       "      <td>417.224701</td>\n",
       "    </tr>\n",
       "    <tr>\n",
       "      <th>17</th>\n",
       "      <td>486.947054</td>\n",
       "      <td>-21.346017</td>\n",
       "      <td>508.293071</td>\n",
       "    </tr>\n",
       "    <tr>\n",
       "      <th>18</th>\n",
       "      <td>537.915753</td>\n",
       "      <td>-5.450578</td>\n",
       "      <td>543.366331</td>\n",
       "    </tr>\n",
       "    <tr>\n",
       "      <th>19</th>\n",
       "      <td>530.362469</td>\n",
       "      <td>20.107177</td>\n",
       "      <td>510.255292</td>\n",
       "    </tr>\n",
       "    <tr>\n",
       "      <th>20</th>\n",
       "      <td>392.810345</td>\n",
       "      <td>-4.287380</td>\n",
       "      <td>397.097725</td>\n",
       "    </tr>\n",
       "    <tr>\n",
       "      <th>21</th>\n",
       "      <td>457.847696</td>\n",
       "      <td>19.478157</td>\n",
       "      <td>438.369539</td>\n",
       "    </tr>\n",
       "    <tr>\n",
       "      <th>22</th>\n",
       "      <td>452.122625</td>\n",
       "      <td>-6.755334</td>\n",
       "      <td>458.877959</td>\n",
       "    </tr>\n",
       "    <tr>\n",
       "      <th>23</th>\n",
       "      <td>530.766719</td>\n",
       "      <td>-3.486418</td>\n",
       "      <td>534.253137</td>\n",
       "    </tr>\n",
       "    <tr>\n",
       "      <th>24</th>\n",
       "      <td>501.874430</td>\n",
       "      <td>-10.330827</td>\n",
       "      <td>512.205258</td>\n",
       "    </tr>\n",
       "    <tr>\n",
       "      <th>25</th>\n",
       "      <td>581.798798</td>\n",
       "      <td>4.080288</td>\n",
       "      <td>577.718510</td>\n",
       "    </tr>\n",
       "    <tr>\n",
       "      <th>26</th>\n",
       "      <td>538.941975</td>\n",
       "      <td>6.281412</td>\n",
       "      <td>532.660562</td>\n",
       "    </tr>\n",
       "    <tr>\n",
       "      <th>27</th>\n",
       "      <td>478.262126</td>\n",
       "      <td>-9.529878</td>\n",
       "      <td>487.792005</td>\n",
       "    </tr>\n",
       "    <tr>\n",
       "      <th>28</th>\n",
       "      <td>558.427257</td>\n",
       "      <td>-0.230527</td>\n",
       "      <td>558.657784</td>\n",
       "    </tr>\n",
       "    <tr>\n",
       "      <th>29</th>\n",
       "      <td>506.423860</td>\n",
       "      <td>-1.671975</td>\n",
       "      <td>508.095835</td>\n",
       "    </tr>\n",
       "    <tr>\n",
       "      <th>...</th>\n",
       "      <td>...</td>\n",
       "      <td>...</td>\n",
       "      <td>...</td>\n",
       "    </tr>\n",
       "    <tr>\n",
       "      <th>320</th>\n",
       "      <td>547.365141</td>\n",
       "      <td>2.324430</td>\n",
       "      <td>545.040710</td>\n",
       "    </tr>\n",
       "    <tr>\n",
       "      <th>321</th>\n",
       "      <td>444.545550</td>\n",
       "      <td>16.764226</td>\n",
       "      <td>427.781324</td>\n",
       "    </tr>\n",
       "    <tr>\n",
       "      <th>322</th>\n",
       "      <td>493.181261</td>\n",
       "      <td>-4.313866</td>\n",
       "      <td>497.495127</td>\n",
       "    </tr>\n",
       "    <tr>\n",
       "      <th>323</th>\n",
       "      <td>447.369027</td>\n",
       "      <td>16.350452</td>\n",
       "      <td>431.018575</td>\n",
       "    </tr>\n",
       "    <tr>\n",
       "      <th>324</th>\n",
       "      <td>529.230090</td>\n",
       "      <td>10.758551</td>\n",
       "      <td>518.471539</td>\n",
       "    </tr>\n",
       "    <tr>\n",
       "      <th>325</th>\n",
       "      <td>492.945053</td>\n",
       "      <td>3.888403</td>\n",
       "      <td>489.056650</td>\n",
       "    </tr>\n",
       "    <tr>\n",
       "      <th>326</th>\n",
       "      <td>476.139247</td>\n",
       "      <td>1.990434</td>\n",
       "      <td>474.148813</td>\n",
       "    </tr>\n",
       "    <tr>\n",
       "      <th>327</th>\n",
       "      <td>416.358354</td>\n",
       "      <td>-1.127906</td>\n",
       "      <td>417.486260</td>\n",
       "    </tr>\n",
       "    <tr>\n",
       "      <th>328</th>\n",
       "      <td>510.401388</td>\n",
       "      <td>7.889088</td>\n",
       "      <td>502.512301</td>\n",
       "    </tr>\n",
       "    <tr>\n",
       "      <th>329</th>\n",
       "      <td>487.555458</td>\n",
       "      <td>-5.893045</td>\n",
       "      <td>493.448503</td>\n",
       "    </tr>\n",
       "    <tr>\n",
       "      <th>330</th>\n",
       "      <td>669.987141</td>\n",
       "      <td>-12.475946</td>\n",
       "      <td>682.463086</td>\n",
       "    </tr>\n",
       "    <tr>\n",
       "      <th>331</th>\n",
       "      <td>637.102448</td>\n",
       "      <td>-2.309521</td>\n",
       "      <td>639.411968</td>\n",
       "    </tr>\n",
       "    <tr>\n",
       "      <th>332</th>\n",
       "      <td>459.285124</td>\n",
       "      <td>-2.336573</td>\n",
       "      <td>461.621697</td>\n",
       "    </tr>\n",
       "    <tr>\n",
       "      <th>333</th>\n",
       "      <td>505.119638</td>\n",
       "      <td>-7.560320</td>\n",
       "      <td>512.679958</td>\n",
       "    </tr>\n",
       "    <tr>\n",
       "      <th>334</th>\n",
       "      <td>519.372977</td>\n",
       "      <td>0.939116</td>\n",
       "      <td>518.433860</td>\n",
       "    </tr>\n",
       "    <tr>\n",
       "      <th>335</th>\n",
       "      <td>466.421199</td>\n",
       "      <td>7.809705</td>\n",
       "      <td>458.611493</td>\n",
       "    </tr>\n",
       "    <tr>\n",
       "      <th>336</th>\n",
       "      <td>409.070472</td>\n",
       "      <td>12.844102</td>\n",
       "      <td>396.226370</td>\n",
       "    </tr>\n",
       "    <tr>\n",
       "      <th>337</th>\n",
       "      <td>491.911505</td>\n",
       "      <td>-5.805331</td>\n",
       "      <td>497.716837</td>\n",
       "    </tr>\n",
       "    <tr>\n",
       "      <th>338</th>\n",
       "      <td>573.847438</td>\n",
       "      <td>-1.826732</td>\n",
       "      <td>575.674170</td>\n",
       "    </tr>\n",
       "    <tr>\n",
       "      <th>339</th>\n",
       "      <td>452.627255</td>\n",
       "      <td>-5.399238</td>\n",
       "      <td>458.026493</td>\n",
       "    </tr>\n",
       "    <tr>\n",
       "      <th>340</th>\n",
       "      <td>532.751788</td>\n",
       "      <td>1.261380</td>\n",
       "      <td>531.490408</td>\n",
       "    </tr>\n",
       "    <tr>\n",
       "      <th>341</th>\n",
       "      <td>502.771075</td>\n",
       "      <td>6.499865</td>\n",
       "      <td>496.271210</td>\n",
       "    </tr>\n",
       "    <tr>\n",
       "      <th>342</th>\n",
       "      <td>482.830986</td>\n",
       "      <td>7.496446</td>\n",
       "      <td>475.334540</td>\n",
       "    </tr>\n",
       "    <tr>\n",
       "      <th>343</th>\n",
       "      <td>478.719357</td>\n",
       "      <td>23.078863</td>\n",
       "      <td>455.640494</td>\n",
       "    </tr>\n",
       "    <tr>\n",
       "      <th>344</th>\n",
       "      <td>473.728967</td>\n",
       "      <td>3.994509</td>\n",
       "      <td>469.734457</td>\n",
       "    </tr>\n",
       "    <tr>\n",
       "      <th>345</th>\n",
       "      <td>483.159721</td>\n",
       "      <td>12.441854</td>\n",
       "      <td>470.717867</td>\n",
       "    </tr>\n",
       "    <tr>\n",
       "      <th>346</th>\n",
       "      <td>505.230068</td>\n",
       "      <td>-1.727427</td>\n",
       "      <td>506.957495</td>\n",
       "    </tr>\n",
       "    <tr>\n",
       "      <th>347</th>\n",
       "      <td>440.002747</td>\n",
       "      <td>-9.298212</td>\n",
       "      <td>449.300959</td>\n",
       "    </tr>\n",
       "    <tr>\n",
       "      <th>348</th>\n",
       "      <td>522.337405</td>\n",
       "      <td>8.369432</td>\n",
       "      <td>513.967973</td>\n",
       "    </tr>\n",
       "    <tr>\n",
       "      <th>349</th>\n",
       "      <td>533.396554</td>\n",
       "      <td>3.647278</td>\n",
       "      <td>529.749276</td>\n",
       "    </tr>\n",
       "  </tbody>\n",
       "</table>\n",
       "<p>350 rows × 3 columns</p>\n",
       "</div>"
      ],
      "text/plain": [
       "     actual_train      error  predicted_train\n",
       "0      443.965627  -5.405645       449.371272\n",
       "1      556.298141  -1.537472       557.835613\n",
       "2      549.131573  -4.204239       553.335813\n",
       "3      487.379306   1.370619       486.008687\n",
       "4      561.516532  13.435260       548.081272\n",
       "5      537.825282  -5.297562       543.122845\n",
       "6      444.582165  -7.219584       451.801749\n",
       "7      542.412477   9.963940       532.448536\n",
       "8      549.008227   0.452321       548.555906\n",
       "9      439.074767  -6.858609       445.933375\n",
       "10     432.720718   2.825869       429.894849\n",
       "11     510.539422  23.863023       486.676399\n",
       "12     626.018673  15.821383       610.197290\n",
       "13     576.802547   6.686108       570.116439\n",
       "14     427.199385 -13.875644       441.075029\n",
       "15     532.717486  -4.931413       537.648899\n",
       "16     424.675281   7.450580       417.224701\n",
       "17     486.947054 -21.346017       508.293071\n",
       "18     537.915753  -5.450578       543.366331\n",
       "19     530.362469  20.107177       510.255292\n",
       "20     392.810345  -4.287380       397.097725\n",
       "21     457.847696  19.478157       438.369539\n",
       "22     452.122625  -6.755334       458.877959\n",
       "23     530.766719  -3.486418       534.253137\n",
       "24     501.874430 -10.330827       512.205258\n",
       "25     581.798798   4.080288       577.718510\n",
       "26     538.941975   6.281412       532.660562\n",
       "27     478.262126  -9.529878       487.792005\n",
       "28     558.427257  -0.230527       558.657784\n",
       "29     506.423860  -1.671975       508.095835\n",
       "..            ...        ...              ...\n",
       "320    547.365141   2.324430       545.040710\n",
       "321    444.545550  16.764226       427.781324\n",
       "322    493.181261  -4.313866       497.495127\n",
       "323    447.369027  16.350452       431.018575\n",
       "324    529.230090  10.758551       518.471539\n",
       "325    492.945053   3.888403       489.056650\n",
       "326    476.139247   1.990434       474.148813\n",
       "327    416.358354  -1.127906       417.486260\n",
       "328    510.401388   7.889088       502.512301\n",
       "329    487.555458  -5.893045       493.448503\n",
       "330    669.987141 -12.475946       682.463086\n",
       "331    637.102448  -2.309521       639.411968\n",
       "332    459.285124  -2.336573       461.621697\n",
       "333    505.119638  -7.560320       512.679958\n",
       "334    519.372977   0.939116       518.433860\n",
       "335    466.421199   7.809705       458.611493\n",
       "336    409.070472  12.844102       396.226370\n",
       "337    491.911505  -5.805331       497.716837\n",
       "338    573.847438  -1.826732       575.674170\n",
       "339    452.627255  -5.399238       458.026493\n",
       "340    532.751788   1.261380       531.490408\n",
       "341    502.771075   6.499865       496.271210\n",
       "342    482.830986   7.496446       475.334540\n",
       "343    478.719357  23.078863       455.640494\n",
       "344    473.728967   3.994509       469.734457\n",
       "345    483.159721  12.441854       470.717867\n",
       "346    505.230068  -1.727427       506.957495\n",
       "347    440.002747  -9.298212       449.300959\n",
       "348    522.337405   8.369432       513.967973\n",
       "349    533.396554   3.647278       529.749276\n",
       "\n",
       "[350 rows x 3 columns]"
      ]
     },
     "execution_count": 57,
     "metadata": {},
     "output_type": "execute_result"
    }
   ],
   "source": [
    "df1"
   ]
  },
  {
   "cell_type": "code",
   "execution_count": 24,
   "metadata": {
    "collapsed": true
   },
   "outputs": [],
   "source": [
    "df1=pd.DataFrame(actual)"
   ]
  },
  {
   "cell_type": "code",
   "execution_count": 25,
   "metadata": {},
   "outputs": [
    {
     "data": {
      "text/html": [
       "<div>\n",
       "<style>\n",
       "    .dataframe thead tr:only-child th {\n",
       "        text-align: right;\n",
       "    }\n",
       "\n",
       "    .dataframe thead th {\n",
       "        text-align: left;\n",
       "    }\n",
       "\n",
       "    .dataframe tbody tr th {\n",
       "        vertical-align: top;\n",
       "    }\n",
       "</style>\n",
       "<table border=\"1\" class=\"dataframe\">\n",
       "  <thead>\n",
       "    <tr style=\"text-align: right;\">\n",
       "      <th></th>\n",
       "      <th>0</th>\n",
       "      <th>1</th>\n",
       "    </tr>\n",
       "  </thead>\n",
       "  <tbody>\n",
       "    <tr>\n",
       "      <th>0</th>\n",
       "      <td>X_train</td>\n",
       "      <td>pred</td>\n",
       "    </tr>\n",
       "  </tbody>\n",
       "</table>\n",
       "</div>"
      ],
      "text/plain": [
       "         0     1\n",
       "0  X_train  pred"
      ]
     },
     "execution_count": 25,
     "metadata": {},
     "output_type": "execute_result"
    }
   ],
   "source": [
    "df1"
   ]
  },
  {
   "cell_type": "code",
   "execution_count": null,
   "metadata": {
    "collapsed": true
   },
   "outputs": [],
   "source": []
  },
  {
   "cell_type": "markdown",
   "metadata": {},
   "source": [
    "## Predicting Test Data\n",
    "Now that we have fit our model, let's evaluate its performance by predicting off the test values!\n",
    "\n",
    "** Use lm.predict() to predict off the X_test set of the data.**"
   ]
  },
  {
   "cell_type": "code",
   "execution_count": 295,
   "metadata": {
    "collapsed": true
   },
   "outputs": [],
   "source": []
  },
  {
   "cell_type": "markdown",
   "metadata": {},
   "source": [
    "** Create a scatterplot of the real test values versus the predicted values. **"
   ]
  },
  {
   "cell_type": "code",
   "execution_count": 296,
   "metadata": {},
   "outputs": [
    {
     "data": {
      "text/plain": [
       "<matplotlib.text.Text at 0x135546320>"
      ]
     },
     "execution_count": 296,
     "metadata": {},
     "output_type": "execute_result"
    },
    {
     "data": {
      "image/png": "[encoded data removed]",
      "text/plain": [
       "<matplotlib.figure.Figure at 0x135517780>"
      ]
     },
     "metadata": {},
     "output_type": "display_data"
    }
   ],
   "source": []
  },
  {
   "cell_type": "markdown",
   "metadata": {},
   "source": [
    "## Evaluating the Model\n",
    "\n",
    "Let's evaluate our model performance by calculating the residual sum of squares and the explained variance score (R^2).\n",
    "\n",
    "** Calculate the Mean Absolute Error, Mean Squared Error, and the Root Mean Squared Error. Refer to the lecture or to Wikipedia for the formulas**"
   ]
  },
  {
   "cell_type": "code",
   "execution_count": 303,
   "metadata": {},
   "outputs": [
    {
     "name": "stdout",
     "output_type": "stream",
     "text": [
      "MAE: 7.22814865343\n",
      "MSE: 79.813051651\n",
      "RMSE: 8.93381506698\n"
     ]
    }
   ],
   "source": []
  },
  {
   "cell_type": "markdown",
   "metadata": {},
   "source": [
    "## Residuals\n",
    "\n",
    "You should have gotten a very good model with a good fit. Let's quickly explore the residuals to make sure everything was okay with our data. \n",
    "\n",
    "**Plot a histogram of the residuals and make sure it looks normally distributed. Use either seaborn distplot, or just plt.hist().**"
   ]
  },
  {
   "cell_type": "code",
   "execution_count": 317,
   "metadata": {},
   "outputs": [
    {
     "data": {
      "image/png": "[encoded data removed]",
      "text/plain": [
       "<matplotlib.figure.Figure at 0x137bd9390>"
      ]
     },
     "metadata": {},
     "output_type": "display_data"
    }
   ],
   "source": []
  },
  {
   "cell_type": "markdown",
   "metadata": {},
   "source": [
    "## Conclusion\n",
    "We still want to figure out the answer to the original question, do we focus our efforst on mobile app or website development? Or maybe that doesn't even really matter, and Membership Time is what is really important.  Let's see if we can interpret the coefficients at all to get an idea.\n",
    "\n",
    "** Recreate the dataframe below. **"
   ]
  },
  {
   "cell_type": "code",
   "execution_count": 298,
   "metadata": {},
   "outputs": [
    {
     "data": {
      "text/html": [
       "<div>\n",
       "<table border=\"1\" class=\"dataframe\">\n",
       "  <thead>\n",
       "    <tr style=\"text-align: right;\">\n",
       "      <th></th>\n",
       "      <th>Coeffecient</th>\n",
       "    </tr>\n",
       "  </thead>\n",
       "  <tbody>\n",
       "    <tr>\n",
       "      <th>Avg. Session Length</th>\n",
       "      <td>25.981550</td>\n",
       "    </tr>\n",
       "    <tr>\n",
       "      <th>Time on App</th>\n",
       "      <td>38.590159</td>\n",
       "    </tr>\n",
       "    <tr>\n",
       "      <th>Time on Website</th>\n",
       "      <td>0.190405</td>\n",
       "    </tr>\n",
       "    <tr>\n",
       "      <th>Length of Membership</th>\n",
       "      <td>61.279097</td>\n",
       "    </tr>\n",
       "  </tbody>\n",
       "</table>\n",
       "</div>"
      ],
      "text/plain": [
       "                      Coeffecient\n",
       "Avg. Session Length     25.981550\n",
       "Time on App             38.590159\n",
       "Time on Website          0.190405\n",
       "Length of Membership    61.279097"
      ]
     },
     "execution_count": 298,
     "metadata": {},
     "output_type": "execute_result"
    }
   ],
   "source": []
  },
  {
   "cell_type": "markdown",
   "metadata": {},
   "source": [
    "** How can you interpret these coefficients? **"
   ]
  },
  {
   "cell_type": "markdown",
   "metadata": {},
   "source": []
  },
  {
   "cell_type": "markdown",
   "metadata": {},
   "source": [
    "**Do you think the company should focus more on their mobile app or on their website?**"
   ]
  },
  {
   "cell_type": "markdown",
   "metadata": {},
   "source": [
    "\n",
    "*Answer here*"
   ]
  },
  {
   "cell_type": "markdown",
   "metadata": {},
   "source": []
  },
  {
   "cell_type": "code",
   "execution_count": 28,
   "metadata": {
    "collapsed": true
   },
   "outputs": [],
   "source": [
    "import statsmodels.api as sm\n",
    "import scipy, scipy.stats\n",
    "from statsmodels.api import add_constant\n"
   ]
  },
  {
   "cell_type": "code",
   "execution_count": 59,
   "metadata": {},
   "outputs": [
    {
     "data": {
      "text/plain": [
       "<function statsmodels.tools.tools.add_constant>"
      ]
     },
     "execution_count": 59,
     "metadata": {},
     "output_type": "execute_result"
    }
   ],
   "source": []
  },
  {
   "cell_type": "code",
   "execution_count": 9,
   "metadata": {
    "collapsed": true
   },
   "outputs": [],
   "source": [
    "X2 = add_constant(X_train)#add a constant to the model\n",
    "lm1= sm.OLS(y_train,X2)\n"
   ]
  },
  {
   "cell_type": "code",
   "execution_count": 10,
   "metadata": {
    "collapsed": true
   },
   "outputs": [],
   "source": [
    "lm2=lm1.fit()\n"
   ]
  },
  {
   "cell_type": "code",
   "execution_count": 63,
   "metadata": {},
   "outputs": [
    {
     "data": {
      "text/plain": [
       "const                   2.365789e-121\n",
       "Avg. Session Length     4.384153e-151\n",
       "Time on App             1.638974e-196\n",
       "Time on Website          7.413387e-01\n",
       "Length of Membership    6.343564e-268\n",
       "dtype: float64"
      ]
     },
     "execution_count": 63,
     "metadata": {},
     "output_type": "execute_result"
    }
   ],
   "source": [
    "lm2.pvalues"
   ]
  },
  {
   "cell_type": "code",
   "execution_count": 11,
   "metadata": {},
   "outputs": [
    {
     "name": "stdout",
     "output_type": "stream",
     "text": [
      "                             OLS Regression Results                            \n",
      "===============================================================================\n",
      "Dep. Variable:     Yearly Amount Spent   R-squared:                       0.982\n",
      "Model:                             OLS   Adj. R-squared:                  0.982\n",
      "Method:                  Least Squares   F-statistic:                     4641.\n",
      "Date:                 Tue, 05 Jun 2018   Prob (F-statistic):          1.88e-298\n",
      "Time:                         20:33:56   Log-Likelihood:                -1314.1\n",
      "No. Observations:                  350   AIC:                             2638.\n",
      "Df Residuals:                      345   BIC:                             2658.\n",
      "Df Model:                            4                                         \n",
      "Covariance Type:             nonrobust                                         \n",
      "========================================================================================\n",
      "                           coef    std err          t      P>|t|      [0.025      0.975]\n",
      "----------------------------------------------------------------------------------------\n",
      "const                -1047.9328     28.509    -36.758      0.000   -1104.007    -991.859\n",
      "Avg. Session Length     25.9815      0.557     46.657      0.000      24.886      27.077\n",
      "Time on App             38.5902      0.590     65.411      0.000      37.430      39.751\n",
      "Time on Website          0.1904      0.576      0.330      0.741      -0.943       1.324\n",
      "Length of Membership    61.2791      0.568    107.923      0.000      60.162      62.396\n",
      "==============================================================================\n",
      "Omnibus:                        0.525   Durbin-Watson:                   2.098\n",
      "Prob(Omnibus):                  0.769   Jarque-Bera (JB):                0.505\n",
      "Skew:                          -0.092   Prob(JB):                        0.777\n",
      "Kurtosis:                       2.977   Cond. No.                     2.63e+03\n",
      "==============================================================================\n",
      "\n",
      "Warnings:\n",
      "[1] Standard Errors assume that the covariance matrix of the errors is correctly specified.\n",
      "[2] The condition number is large, 2.63e+03. This might indicate that there are\n",
      "strong multicollinearity or other numerical problems.\n"
     ]
    }
   ],
   "source": [
    "print(lm2.summary())"
   ]
  },
  {
   "cell_type": "code",
   "execution_count": 18,
   "metadata": {
    "collapsed": true
   },
   "outputs": [],
   "source": [
    "X_train, X_test, y_train, y_test = train_test_split(df[['Avg. Session Length','Time on App','Length of Membership']],df['Yearly Amount Spent'],test_size=0.3,random_state=101)"
   ]
  },
  {
   "cell_type": "code",
   "execution_count": 19,
   "metadata": {
    "collapsed": true
   },
   "outputs": [],
   "source": [
    "X3 = add_constant(X_train)#add a constant to the model\n",
    "lm3= sm.OLS(y_train,X3)\n",
    "lm4=lm3.fit()"
   ]
  },
  {
   "cell_type": "code",
   "execution_count": 20,
   "metadata": {},
   "outputs": [
    {
     "name": "stdout",
     "output_type": "stream",
     "text": [
      "                             OLS Regression Results                            \n",
      "===============================================================================\n",
      "Dep. Variable:     Yearly Amount Spent   R-squared:                       0.982\n",
      "Model:                             OLS   Adj. R-squared:                  0.982\n",
      "Method:                  Least Squares   F-statistic:                     6204.\n",
      "Date:                 Tue, 05 Jun 2018   Prob (F-statistic):          2.32e-300\n",
      "Time:                         20:37:25   Log-Likelihood:                -1314.2\n",
      "No. Observations:                  350   AIC:                             2636.\n",
      "Df Residuals:                      346   BIC:                             2652.\n",
      "Df Model:                            3                                         \n",
      "Covariance Type:             nonrobust                                         \n",
      "========================================================================================\n",
      "                           coef    std err          t      P>|t|      [0.025      0.975]\n",
      "----------------------------------------------------------------------------------------\n",
      "const                -1041.2680     20.117    -51.761      0.000   -1080.835   -1001.701\n",
      "Avg. Session Length     25.9876      0.556     46.753      0.000      24.894      27.081\n",
      "Time on App             38.6094      0.586     65.850      0.000      37.456      39.763\n",
      "Length of Membership    61.2690      0.566    108.199      0.000      60.155      62.383\n",
      "==============================================================================\n",
      "Omnibus:                        0.506   Durbin-Watson:                   2.099\n",
      "Prob(Omnibus):                  0.776   Jarque-Bera (JB):                0.494\n",
      "Skew:                          -0.091   Prob(JB):                        0.781\n",
      "Kurtosis:                       2.972   Cond. No.                     1.28e+03\n",
      "==============================================================================\n",
      "\n",
      "Warnings:\n",
      "[1] Standard Errors assume that the covariance matrix of the errors is correctly specified.\n",
      "[2] The condition number is large, 1.28e+03. This might indicate that there are\n",
      "strong multicollinearity or other numerical problems.\n"
     ]
    }
   ],
   "source": [
    "print(lm4.summary())"
   ]
  },
  {
   "cell_type": "code",
   "execution_count": 27,
   "metadata": {},
   "outputs": [
    {
     "ename": "ValueError",
     "evalue": "shapes (350,3) and (4,) not aligned: 3 (dim 1) != 4 (dim 0)",
     "output_type": "error",
     "traceback": [
      "\u001b[1;31m---------------------------------------------------------------------------\u001b[0m",
      "\u001b[1;31mValueError\u001b[0m                                Traceback (most recent call last)",
      "\u001b[1;32m<ipython-input-27-bb2e0dc84a78>\u001b[0m in \u001b[0;36m<module>\u001b[1;34m()\u001b[0m\n\u001b[1;32m----> 1\u001b[1;33m \u001b[0mlm4\u001b[0m\u001b[1;33m.\u001b[0m\u001b[0mpredict\u001b[0m\u001b[1;33m(\u001b[0m\u001b[0mX_train\u001b[0m\u001b[1;33m)\u001b[0m\u001b[1;33m\u001b[0m\u001b[0m\n\u001b[0m",
      "\u001b[1;32m~\\Anaconda3\\lib\\site-packages\\statsmodels\\base\\model.py\u001b[0m in \u001b[0;36mpredict\u001b[1;34m(self, exog, transform, *args, **kwargs)\u001b[0m\n\u001b[0;32m    790\u001b[0m             \u001b[0mexog\u001b[0m \u001b[1;33m=\u001b[0m \u001b[0mnp\u001b[0m\u001b[1;33m.\u001b[0m\u001b[0matleast_2d\u001b[0m\u001b[1;33m(\u001b[0m\u001b[0mexog\u001b[0m\u001b[1;33m)\u001b[0m  \u001b[1;31m# needed in count model shape[1]\u001b[0m\u001b[1;33m\u001b[0m\u001b[0m\n\u001b[0;32m    791\u001b[0m \u001b[1;33m\u001b[0m\u001b[0m\n\u001b[1;32m--> 792\u001b[1;33m         \u001b[0mpredict_results\u001b[0m \u001b[1;33m=\u001b[0m \u001b[0mself\u001b[0m\u001b[1;33m.\u001b[0m\u001b[0mmodel\u001b[0m\u001b[1;33m.\u001b[0m\u001b[0mpredict\u001b[0m\u001b[1;33m(\u001b[0m\u001b[0mself\u001b[0m\u001b[1;33m.\u001b[0m\u001b[0mparams\u001b[0m\u001b[1;33m,\u001b[0m \u001b[0mexog\u001b[0m\u001b[1;33m,\u001b[0m \u001b[1;33m*\u001b[0m\u001b[0margs\u001b[0m\u001b[1;33m,\u001b[0m \u001b[1;33m**\u001b[0m\u001b[0mkwargs\u001b[0m\u001b[1;33m)\u001b[0m\u001b[1;33m\u001b[0m\u001b[0m\n\u001b[0m\u001b[0;32m    793\u001b[0m \u001b[1;33m\u001b[0m\u001b[0m\n\u001b[0;32m    794\u001b[0m         \u001b[1;32mif\u001b[0m \u001b[0mexog_index\u001b[0m \u001b[1;32mis\u001b[0m \u001b[1;32mnot\u001b[0m \u001b[1;32mNone\u001b[0m \u001b[1;32mand\u001b[0m \u001b[1;32mnot\u001b[0m \u001b[0mhasattr\u001b[0m\u001b[1;33m(\u001b[0m\u001b[0mpredict_results\u001b[0m\u001b[1;33m,\u001b[0m \u001b[1;34m'predicted_values'\u001b[0m\u001b[1;33m)\u001b[0m\u001b[1;33m:\u001b[0m\u001b[1;33m\u001b[0m\u001b[0m\n",
      "\u001b[1;32m~\\Anaconda3\\lib\\site-packages\\statsmodels\\regression\\linear_model.py\u001b[0m in \u001b[0;36mpredict\u001b[1;34m(self, params, exog)\u001b[0m\n\u001b[0;32m    259\u001b[0m             \u001b[0mexog\u001b[0m \u001b[1;33m=\u001b[0m \u001b[0mself\u001b[0m\u001b[1;33m.\u001b[0m\u001b[0mexog\u001b[0m\u001b[1;33m\u001b[0m\u001b[0m\n\u001b[0;32m    260\u001b[0m \u001b[1;33m\u001b[0m\u001b[0m\n\u001b[1;32m--> 261\u001b[1;33m         \u001b[1;32mreturn\u001b[0m \u001b[0mnp\u001b[0m\u001b[1;33m.\u001b[0m\u001b[0mdot\u001b[0m\u001b[1;33m(\u001b[0m\u001b[0mexog\u001b[0m\u001b[1;33m,\u001b[0m \u001b[0mparams\u001b[0m\u001b[1;33m)\u001b[0m\u001b[1;33m\u001b[0m\u001b[0m\n\u001b[0m\u001b[0;32m    262\u001b[0m \u001b[1;33m\u001b[0m\u001b[0m\n\u001b[0;32m    263\u001b[0m     \u001b[1;32mdef\u001b[0m \u001b[0mget_distribution\u001b[0m\u001b[1;33m(\u001b[0m\u001b[0mself\u001b[0m\u001b[1;33m,\u001b[0m \u001b[0mparams\u001b[0m\u001b[1;33m,\u001b[0m \u001b[0mscale\u001b[0m\u001b[1;33m,\u001b[0m \u001b[0mexog\u001b[0m\u001b[1;33m=\u001b[0m\u001b[1;32mNone\u001b[0m\u001b[1;33m,\u001b[0m \u001b[0mdist_class\u001b[0m\u001b[1;33m=\u001b[0m\u001b[1;32mNone\u001b[0m\u001b[1;33m)\u001b[0m\u001b[1;33m:\u001b[0m\u001b[1;33m\u001b[0m\u001b[0m\n",
      "\u001b[1;31mValueError\u001b[0m: shapes (350,3) and (4,) not aligned: 3 (dim 1) != 4 (dim 0)"
     ]
    }
   ],
   "source": [
    "lm4.predict(X_train)"
   ]
  },
  {
   "cell_type": "code",
   "execution_count": 23,
   "metadata": {},
   "outputs": [
    {
     "data": {
      "text/plain": [
       "(350, 3)"
      ]
     },
     "execution_count": 23,
     "metadata": {},
     "output_type": "execute_result"
    }
   ],
   "source": [
    "X_train.shape"
   ]
  },
  {
   "cell_type": "code",
   "execution_count": 24,
   "metadata": {},
   "outputs": [
    {
     "data": {
      "text/plain": [
       "(350,)"
      ]
     },
     "execution_count": 24,
     "metadata": {},
     "output_type": "execute_result"
    }
   ],
   "source": [
    "y_train.shape"
   ]
  },
  {
   "cell_type": "code",
   "execution_count": 25,
   "metadata": {},
   "outputs": [
    {
     "data": {
      "text/plain": [
       "202    443.965627\n",
       "428    556.298141\n",
       "392    549.131573\n",
       "86     487.379306\n",
       "443    561.516532\n",
       "398    537.825282\n",
       "449    444.582165\n",
       "321    542.412477\n",
       "109    549.008227\n",
       "93     439.074767\n",
       "295    432.720718\n",
       "441    510.539422\n",
       "286    626.018673\n",
       "121    576.802547\n",
       "9      427.199385\n",
       "176    532.717486\n",
       "195    424.675281\n",
       "432    486.947054\n",
       "458    537.915753\n",
       "278    530.362469\n",
       "348    392.810345\n",
       "16     457.847696\n",
       "183    452.122625\n",
       "426    530.766719\n",
       "41     501.874430\n",
       "427    581.798798\n",
       "377    538.941975\n",
       "322    478.262126\n",
       "213    558.427257\n",
       "296    506.423860\n",
       "          ...    \n",
       "59     547.365141\n",
       "473    444.545550\n",
       "413    493.181261\n",
       "371    447.369027\n",
       "136    529.230090\n",
       "111    492.945053\n",
       "339    476.139247\n",
       "49     416.358354\n",
       "490    510.401388\n",
       "477    487.555458\n",
       "396    669.987141\n",
       "5      637.102448\n",
       "110    459.285124\n",
       "192    505.119638\n",
       "220    519.372977\n",
       "316    466.421199\n",
       "245    409.070472\n",
       "424    491.911505\n",
       "495    573.847438\n",
       "132    452.627255\n",
       "40     532.751788\n",
       "461    502.771075\n",
       "393    482.830986\n",
       "75     478.719357\n",
       "87     473.728967\n",
       "63     483.159721\n",
       "326    505.230068\n",
       "337    440.002747\n",
       "11     522.337405\n",
       "351    533.396554\n",
       "Name: Yearly Amount Spent, Length: 350, dtype: float64"
      ]
     },
     "execution_count": 25,
     "metadata": {},
     "output_type": "execute_result"
    }
   ],
   "source": [
    "y_train"
   ]
  }
 ],
 "metadata": {
  "kernelspec": {
   "display_name": "Python 3",
   "language": "python",
   "name": "python3"
  },
  "language_info": {
   "codemirror_mode": {
    "name": "ipython",
    "version": 3
   },
   "file_extension": ".py",
   "mimetype": "text/x-python",
   "name": "python",
   "nbconvert_exporter": "python",
   "pygments_lexer": "ipython3",
   "version": "3.6.2"
  }
 },
 "nbformat": 4,
 "nbformat_minor": 1
}
