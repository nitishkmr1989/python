{
 "cells": [
  {
   "cell_type": "markdown",
   "metadata": {},
   "source": [
    "# LOGISTIC REGRESSION CASE STUDY"
   ]
  },
  {
   "cell_type": "code",
   "execution_count": 1,
   "metadata": {
    "collapsed": true
   },
   "outputs": [],
   "source": [
    "import numpy as np\n",
    "import pandas as pd\n",
    "import matplotlib.pyplot as plt"
   ]
  },
  {
   "cell_type": "markdown",
   "metadata": {},
   "source": [
    "# Data Description"
   ]
  },
  {
   "cell_type": "code",
   "execution_count": 2,
   "metadata": {
    "collapsed": true
   },
   "outputs": [],
   "source": [
    "# MemberID numbers the patients from 1 to 131, and is just an identifying number.\n",
    "# InpatientDays is the number of inpatient visits, or number of days the person spent in the hospital.\n",
    "# ERVisits is the number of times the patient visited the emergency room.\n",
    "# OfficeVisits is the number of times the patient visited any doctor’s office.\n",
    "# Narcotics is the number of prescriptions the patient had for narcotics.\n",
    "# DaysSinceLastERVisit is the number of days between the patient’s last emergency room visit \n",
    "# Pain is the number of visits for which the patient complained about pain.\n",
    "# TotalVisits is the total number of times the patient visited any healthcare provider.\n",
    "# ProviderCount is the number of providers that served the patient.\n",
    "# MedicalClaims is the number of days on which the patient had a medical claim.\n",
    "# ClaimLines is the total number of medical claims.\n",
    "# StartedOnCombination is whether or not the patient was started on a combination of drugs to treat their diabetes (TRUE or FALSE).\n",
    "# AcuteDrugGapSmall is the fraction of acute drugs that were refilled quickly after the prescription ran out.\n",
    "# PoorCare is the outcome or dependent variable, and is equal to 1 if the patient had poor care, and equal to 0 if the patient had good care."
   ]
  },
  {
   "cell_type": "code",
   "execution_count": 2,
   "metadata": {
    "collapsed": true
   },
   "outputs": [],
   "source": [
    "df=pd.read_csv(\"quality.csv\")#read the csv into python"
   ]
  },
  {
   "cell_type": "code",
   "execution_count": 4,
   "metadata": {},
   "outputs": [
    {
     "data": {
      "text/html": [
       "<div>\n",
       "<table border=\"1\" class=\"dataframe\">\n",
       "  <thead>\n",
       "    <tr style=\"text-align: right;\">\n",
       "      <th></th>\n",
       "      <th>MemberID</th>\n",
       "      <th>InpatientDays</th>\n",
       "      <th>ERVisits</th>\n",
       "      <th>OfficeVisits</th>\n",
       "      <th>Narcotics</th>\n",
       "      <th>DaysSinceLastERVisit</th>\n",
       "      <th>Pain</th>\n",
       "      <th>TotalVisits</th>\n",
       "      <th>ProviderCount</th>\n",
       "      <th>MedicalClaims</th>\n",
       "      <th>ClaimLines</th>\n",
       "      <th>StartedOnCombination</th>\n",
       "      <th>AcuteDrugGapSmall</th>\n",
       "      <th>PoorCare</th>\n",
       "    </tr>\n",
       "  </thead>\n",
       "  <tbody>\n",
       "    <tr>\n",
       "      <th>0</th>\n",
       "      <td>1</td>\n",
       "      <td>0</td>\n",
       "      <td>0</td>\n",
       "      <td>18</td>\n",
       "      <td>1</td>\n",
       "      <td>731.0</td>\n",
       "      <td>10</td>\n",
       "      <td>18</td>\n",
       "      <td>21</td>\n",
       "      <td>93</td>\n",
       "      <td>222</td>\n",
       "      <td>False</td>\n",
       "      <td>0</td>\n",
       "      <td>0</td>\n",
       "    </tr>\n",
       "    <tr>\n",
       "      <th>1</th>\n",
       "      <td>2</td>\n",
       "      <td>1</td>\n",
       "      <td>1</td>\n",
       "      <td>6</td>\n",
       "      <td>1</td>\n",
       "      <td>411.0</td>\n",
       "      <td>0</td>\n",
       "      <td>8</td>\n",
       "      <td>27</td>\n",
       "      <td>19</td>\n",
       "      <td>115</td>\n",
       "      <td>False</td>\n",
       "      <td>1</td>\n",
       "      <td>0</td>\n",
       "    </tr>\n",
       "    <tr>\n",
       "      <th>2</th>\n",
       "      <td>3</td>\n",
       "      <td>0</td>\n",
       "      <td>0</td>\n",
       "      <td>5</td>\n",
       "      <td>3</td>\n",
       "      <td>731.0</td>\n",
       "      <td>10</td>\n",
       "      <td>5</td>\n",
       "      <td>16</td>\n",
       "      <td>27</td>\n",
       "      <td>148</td>\n",
       "      <td>False</td>\n",
       "      <td>5</td>\n",
       "      <td>0</td>\n",
       "    </tr>\n",
       "    <tr>\n",
       "      <th>3</th>\n",
       "      <td>4</td>\n",
       "      <td>0</td>\n",
       "      <td>1</td>\n",
       "      <td>19</td>\n",
       "      <td>0</td>\n",
       "      <td>158.0</td>\n",
       "      <td>34</td>\n",
       "      <td>20</td>\n",
       "      <td>14</td>\n",
       "      <td>59</td>\n",
       "      <td>242</td>\n",
       "      <td>False</td>\n",
       "      <td>0</td>\n",
       "      <td>0</td>\n",
       "    </tr>\n",
       "    <tr>\n",
       "      <th>4</th>\n",
       "      <td>5</td>\n",
       "      <td>8</td>\n",
       "      <td>2</td>\n",
       "      <td>19</td>\n",
       "      <td>3</td>\n",
       "      <td>449.0</td>\n",
       "      <td>10</td>\n",
       "      <td>29</td>\n",
       "      <td>24</td>\n",
       "      <td>51</td>\n",
       "      <td>204</td>\n",
       "      <td>False</td>\n",
       "      <td>0</td>\n",
       "      <td>0</td>\n",
       "    </tr>\n",
       "  </tbody>\n",
       "</table>\n",
       "</div>"
      ],
      "text/plain": [
       "   MemberID  InpatientDays  ERVisits  OfficeVisits  Narcotics  \\\n",
       "0         1              0         0            18          1   \n",
       "1         2              1         1             6          1   \n",
       "2         3              0         0             5          3   \n",
       "3         4              0         1            19          0   \n",
       "4         5              8         2            19          3   \n",
       "\n",
       "   DaysSinceLastERVisit  Pain  TotalVisits  ProviderCount  MedicalClaims  \\\n",
       "0                 731.0    10           18             21             93   \n",
       "1                 411.0     0            8             27             19   \n",
       "2                 731.0    10            5             16             27   \n",
       "3                 158.0    34           20             14             59   \n",
       "4                 449.0    10           29             24             51   \n",
       "\n",
       "   ClaimLines StartedOnCombination  AcuteDrugGapSmall  PoorCare  \n",
       "0         222                False                  0         0  \n",
       "1         115                False                  1         0  \n",
       "2         148                False                  5         0  \n",
       "3         242                False                  0         0  \n",
       "4         204                False                  0         0  "
      ]
     },
     "execution_count": 4,
     "metadata": {},
     "output_type": "execute_result"
    }
   ],
   "source": [
    "df.head()"
   ]
  },
  {
   "cell_type": "code",
   "execution_count": 5,
   "metadata": {},
   "outputs": [
    {
     "data": {
      "text/plain": [
       "Index([u'MemberID', u'InpatientDays', u'ERVisits', u'OfficeVisits',\n",
       "       u'Narcotics', u'DaysSinceLastERVisit', u'Pain', u'TotalVisits',\n",
       "       u'ProviderCount', u'MedicalClaims', u'ClaimLines',\n",
       "       u'StartedOnCombination', u'AcuteDrugGapSmall', u'PoorCare'],\n",
       "      dtype='object')"
      ]
     },
     "execution_count": 5,
     "metadata": {},
     "output_type": "execute_result"
    }
   ],
   "source": [
    "df.columns#lets look at the columns"
   ]
  },
  {
   "cell_type": "code",
   "execution_count": 6,
   "metadata": {},
   "outputs": [
    {
     "data": {
      "text/plain": [
       "0    98\n",
       "1    33\n",
       "Name: PoorCare, dtype: int64"
      ]
     },
     "execution_count": 6,
     "metadata": {},
     "output_type": "execute_result"
    }
   ],
   "source": [
    "#proportion of 1;s and 0's\n",
    "df['PoorCare'].value_counts()\n",
    "#So a baseline model will always predict 0 and its accuracy will be\n",
    "# 98/(98+33)=  74.8%\n",
    "#so out logistic regression should score more than this .."
   ]
  },
  {
   "cell_type": "markdown",
   "metadata": {},
   "source": [
    "# Exploratory Data Analysis"
   ]
  },
  {
   "cell_type": "code",
   "execution_count": 157,
   "metadata": {},
   "outputs": [
    {
     "data": {
      "text/plain": [
       "<seaborn.axisgrid.PairGrid at 0x23800438>"
      ]
     },
     "execution_count": 157,
     "metadata": {},
     "output_type": "execute_result"
    },
    {
     "data": {
      "image/png": "[encoded data removed]",
      "text/plain": [
       "<matplotlib.figure.Figure at 0x238005c0>"
      ]
     },
     "metadata": {},
     "output_type": "display_data"
    }
   ],
   "source": [
    "#BIVARIATE ANALYSIS\n",
    "#lets Analyse the Column InpatientDays wrt the DV Poor Care\n",
    "#Inpatient Days is a Continuous Independent variable\n",
    "#so lets draw a histogram and color it on basis of the DV\n",
    "import seaborn as sns\n",
    "%matplotlib inline\n",
    "sns.pairplot(df[[\"InpatientDays\",\"PoorCare\"]],hue=\"PoorCare\")\n",
    "#if we see the first plot carefully, both colors 0 and 1 appear in all of the bars..\n",
    "#if we had any bar of one single color, we could make use of it to predict PoorCare\n",
    "#hence this variable doesnt look to be significant"
   ]
  },
  {
   "cell_type": "code",
   "execution_count": 158,
   "metadata": {
    "collapsed": true
   },
   "outputs": [],
   "source": [
    "#I did the same as above with ERVisits, OfficeVisits,\n",
    "#ProviderCount, MedicalClaims, ClaimLines,AcuteDrugGapSmall. The plots for these too did not seem\n",
    "#very interesting."
   ]
  },
  {
   "cell_type": "code",
   "execution_count": 7,
   "metadata": {},
   "outputs": [
    {
     "ename": "NameError",
     "evalue": "name 'sns' is not defined",
     "output_type": "error",
     "traceback": [
      "\u001b[1;31m---------------------------------------------------------------------------\u001b[0m",
      "\u001b[1;31mNameError\u001b[0m                                 Traceback (most recent call last)",
      "\u001b[1;32m<ipython-input-7-6f25b34faf46>\u001b[0m in \u001b[0;36m<module>\u001b[1;34m()\u001b[0m\n\u001b[0;32m      1\u001b[0m \u001b[1;31m#lets try DaysSinceLastERVisit\u001b[0m\u001b[1;33m\u001b[0m\u001b[1;33m\u001b[0m\u001b[0m\n\u001b[1;32m----> 2\u001b[1;33m \u001b[0msns\u001b[0m\u001b[1;33m.\u001b[0m\u001b[0mpairplot\u001b[0m\u001b[1;33m(\u001b[0m\u001b[0mdf\u001b[0m\u001b[1;33m[\u001b[0m\u001b[1;33m[\u001b[0m\u001b[1;34m\"DaysSinceLastERVisit\"\u001b[0m\u001b[1;33m,\u001b[0m\u001b[1;34m\"PoorCare\"\u001b[0m\u001b[1;33m]\u001b[0m\u001b[1;33m]\u001b[0m\u001b[1;33m,\u001b[0m\u001b[0mhue\u001b[0m\u001b[1;33m=\u001b[0m\u001b[1;34m\"PoorCare\"\u001b[0m\u001b[1;33m)\u001b[0m\u001b[1;33m\u001b[0m\u001b[0m\n\u001b[0m\u001b[0;32m      3\u001b[0m \u001b[1;31m#This plot looks interesting as the 3rd, 6th to 9th bar are purely 0;s. This is what we were loking for .\u001b[0m\u001b[1;33m\u001b[0m\u001b[1;33m\u001b[0m\u001b[0m\n\u001b[0;32m      4\u001b[0m \u001b[1;31m#it seems this variable maybe inportant. Lets keep it for including in our model\u001b[0m\u001b[1;33m\u001b[0m\u001b[1;33m\u001b[0m\u001b[0m\n\u001b[0;32m      5\u001b[0m \u001b[1;31m#Similarly I found --> Narcotics, Pain, TotalVisit to be somewhat significant.\u001b[0m\u001b[1;33m\u001b[0m\u001b[1;33m\u001b[0m\u001b[0m\n",
      "\u001b[1;31mNameError\u001b[0m: name 'sns' is not defined"
     ]
    }
   ],
   "source": [
    "#lets try DaysSinceLastERVisit\n",
    "sns.pairplot(df[[\"DaysSinceLastERVisit\",\"PoorCare\"]],hue=\"PoorCare\")\n",
    "#This plot looks interesting as the 3rd, 6th to 9th bar are purely 0;s. This is what we were loking for .\n",
    "#it seems this variable maybe inportant. Lets keep it for including in our model\n",
    "#Similarly I found --> Narcotics, Pain, TotalVisit to be somewhat significant.\n",
    "#this might be difficult sometime, hence we will also have a look at the P vlaues to confirm that\n",
    "#these variables are significant"
   ]
  },
  {
   "cell_type": "code",
   "execution_count": null,
   "metadata": {
    "collapsed": true
   },
   "outputs": [],
   "source": [
    "#but since these variables DaysSinceLastERVisit, Narcotics, Pain, TotalVisit are \n",
    "#continuous We might have to check for multicollinearity.\n",
    "#only if these are not corelated we can use them in Modeling\n",
    "#lets select these columns by their indexes\n",
    "df.iloc[:,[4,5,6,7]].corr()\n",
    "#No significant co-relation observed."
   ]
  },
  {
   "cell_type": "code",
   "execution_count": 3,
   "metadata": {},
   "outputs": [
    {
     "data": {
      "text/plain": [
       "MemberID                0\n",
       "InpatientDays           0\n",
       "ERVisits                0\n",
       "OfficeVisits            0\n",
       "Narcotics               0\n",
       "DaysSinceLastERVisit    0\n",
       "Pain                    0\n",
       "TotalVisits             0\n",
       "ProviderCount           0\n",
       "MedicalClaims           0\n",
       "ClaimLines              0\n",
       "StartedOnCombination    0\n",
       "AcuteDrugGapSmall       0\n",
       "PoorCare                0\n",
       "dtype: int64"
      ]
     },
     "execution_count": 3,
     "metadata": {},
     "output_type": "execute_result"
    }
   ],
   "source": [
    "df.isnull().sum()"
   ]
  },
  {
   "cell_type": "code",
   "execution_count": 4,
   "metadata": {
    "collapsed": true
   },
   "outputs": [],
   "source": [
    "temp=pd.get_dummies(df['StartedOnCombination'],drop_first=True)"
   ]
  },
  {
   "cell_type": "code",
   "execution_count": 5,
   "metadata": {
    "collapsed": true
   },
   "outputs": [],
   "source": [
    "df_final=pd.concat([df,temp],axis=1)"
   ]
  },
  {
   "cell_type": "code",
   "execution_count": 6,
   "metadata": {},
   "outputs": [
    {
     "data": {
      "text/html": [
       "<div>\n",
       "<style>\n",
       "    .dataframe thead tr:only-child th {\n",
       "        text-align: right;\n",
       "    }\n",
       "\n",
       "    .dataframe thead th {\n",
       "        text-align: left;\n",
       "    }\n",
       "\n",
       "    .dataframe tbody tr th {\n",
       "        vertical-align: top;\n",
       "    }\n",
       "</style>\n",
       "<table border=\"1\" class=\"dataframe\">\n",
       "  <thead>\n",
       "    <tr style=\"text-align: right;\">\n",
       "      <th></th>\n",
       "      <th>MemberID</th>\n",
       "      <th>InpatientDays</th>\n",
       "      <th>ERVisits</th>\n",
       "      <th>OfficeVisits</th>\n",
       "      <th>Narcotics</th>\n",
       "      <th>DaysSinceLastERVisit</th>\n",
       "      <th>Pain</th>\n",
       "      <th>TotalVisits</th>\n",
       "      <th>ProviderCount</th>\n",
       "      <th>MedicalClaims</th>\n",
       "      <th>ClaimLines</th>\n",
       "      <th>StartedOnCombination</th>\n",
       "      <th>AcuteDrugGapSmall</th>\n",
       "      <th>PoorCare</th>\n",
       "      <th>True</th>\n",
       "    </tr>\n",
       "  </thead>\n",
       "  <tbody>\n",
       "    <tr>\n",
       "      <th>0</th>\n",
       "      <td>1</td>\n",
       "      <td>0</td>\n",
       "      <td>0</td>\n",
       "      <td>18</td>\n",
       "      <td>1</td>\n",
       "      <td>731.0</td>\n",
       "      <td>10</td>\n",
       "      <td>18</td>\n",
       "      <td>21</td>\n",
       "      <td>93</td>\n",
       "      <td>222</td>\n",
       "      <td>False</td>\n",
       "      <td>0</td>\n",
       "      <td>0</td>\n",
       "      <td>0</td>\n",
       "    </tr>\n",
       "    <tr>\n",
       "      <th>1</th>\n",
       "      <td>2</td>\n",
       "      <td>1</td>\n",
       "      <td>1</td>\n",
       "      <td>6</td>\n",
       "      <td>1</td>\n",
       "      <td>411.0</td>\n",
       "      <td>0</td>\n",
       "      <td>8</td>\n",
       "      <td>27</td>\n",
       "      <td>19</td>\n",
       "      <td>115</td>\n",
       "      <td>False</td>\n",
       "      <td>1</td>\n",
       "      <td>0</td>\n",
       "      <td>0</td>\n",
       "    </tr>\n",
       "    <tr>\n",
       "      <th>2</th>\n",
       "      <td>3</td>\n",
       "      <td>0</td>\n",
       "      <td>0</td>\n",
       "      <td>5</td>\n",
       "      <td>3</td>\n",
       "      <td>731.0</td>\n",
       "      <td>10</td>\n",
       "      <td>5</td>\n",
       "      <td>16</td>\n",
       "      <td>27</td>\n",
       "      <td>148</td>\n",
       "      <td>False</td>\n",
       "      <td>5</td>\n",
       "      <td>0</td>\n",
       "      <td>0</td>\n",
       "    </tr>\n",
       "    <tr>\n",
       "      <th>3</th>\n",
       "      <td>4</td>\n",
       "      <td>0</td>\n",
       "      <td>1</td>\n",
       "      <td>19</td>\n",
       "      <td>0</td>\n",
       "      <td>158.0</td>\n",
       "      <td>34</td>\n",
       "      <td>20</td>\n",
       "      <td>14</td>\n",
       "      <td>59</td>\n",
       "      <td>242</td>\n",
       "      <td>False</td>\n",
       "      <td>0</td>\n",
       "      <td>0</td>\n",
       "      <td>0</td>\n",
       "    </tr>\n",
       "    <tr>\n",
       "      <th>4</th>\n",
       "      <td>5</td>\n",
       "      <td>8</td>\n",
       "      <td>2</td>\n",
       "      <td>19</td>\n",
       "      <td>3</td>\n",
       "      <td>449.0</td>\n",
       "      <td>10</td>\n",
       "      <td>29</td>\n",
       "      <td>24</td>\n",
       "      <td>51</td>\n",
       "      <td>204</td>\n",
       "      <td>False</td>\n",
       "      <td>0</td>\n",
       "      <td>0</td>\n",
       "      <td>0</td>\n",
       "    </tr>\n",
       "  </tbody>\n",
       "</table>\n",
       "</div>"
      ],
      "text/plain": [
       "   MemberID  InpatientDays  ERVisits  OfficeVisits  Narcotics  \\\n",
       "0         1              0         0            18          1   \n",
       "1         2              1         1             6          1   \n",
       "2         3              0         0             5          3   \n",
       "3         4              0         1            19          0   \n",
       "4         5              8         2            19          3   \n",
       "\n",
       "   DaysSinceLastERVisit  Pain  TotalVisits  ProviderCount  MedicalClaims  \\\n",
       "0                 731.0    10           18             21             93   \n",
       "1                 411.0     0            8             27             19   \n",
       "2                 731.0    10            5             16             27   \n",
       "3                 158.0    34           20             14             59   \n",
       "4                 449.0    10           29             24             51   \n",
       "\n",
       "   ClaimLines  StartedOnCombination  AcuteDrugGapSmall  PoorCare  True  \n",
       "0         222                 False                  0         0     0  \n",
       "1         115                 False                  1         0     0  \n",
       "2         148                 False                  5         0     0  \n",
       "3         242                 False                  0         0     0  \n",
       "4         204                 False                  0         0     0  "
      ]
     },
     "execution_count": 6,
     "metadata": {},
     "output_type": "execute_result"
    }
   ],
   "source": [
    "df_final.head()"
   ]
  },
  {
   "cell_type": "code",
   "execution_count": 7,
   "metadata": {
    "scrolled": true
   },
   "outputs": [
    {
     "data": {
      "text/html": [
       "<div>\n",
       "<style>\n",
       "    .dataframe thead tr:only-child th {\n",
       "        text-align: right;\n",
       "    }\n",
       "\n",
       "    .dataframe thead th {\n",
       "        text-align: left;\n",
       "    }\n",
       "\n",
       "    .dataframe tbody tr th {\n",
       "        vertical-align: top;\n",
       "    }\n",
       "</style>\n",
       "<table border=\"1\" class=\"dataframe\">\n",
       "  <thead>\n",
       "    <tr style=\"text-align: right;\">\n",
       "      <th>StartedOnCombination</th>\n",
       "      <th>False</th>\n",
       "      <th>True</th>\n",
       "    </tr>\n",
       "    <tr>\n",
       "      <th>PoorCare</th>\n",
       "      <th></th>\n",
       "      <th></th>\n",
       "    </tr>\n",
       "  </thead>\n",
       "  <tbody>\n",
       "    <tr>\n",
       "      <th>0</th>\n",
       "      <td>97</td>\n",
       "      <td>1</td>\n",
       "    </tr>\n",
       "    <tr>\n",
       "      <th>1</th>\n",
       "      <td>28</td>\n",
       "      <td>5</td>\n",
       "    </tr>\n",
       "  </tbody>\n",
       "</table>\n",
       "</div>"
      ],
      "text/plain": [
       "StartedOnCombination  False  True \n",
       "PoorCare                          \n",
       "0                        97      1\n",
       "1                        28      5"
      ]
     },
     "execution_count": 7,
     "metadata": {},
     "output_type": "execute_result"
    }
   ],
   "source": [
    "pd.crosstab(df['PoorCare'],df['StartedOnCombination'])"
   ]
  },
  {
   "cell_type": "code",
   "execution_count": 9,
   "metadata": {
    "scrolled": true
   },
   "outputs": [
    {
     "data": {
      "text/html": [
       "<div>\n",
       "<style>\n",
       "    .dataframe thead tr:only-child th {\n",
       "        text-align: right;\n",
       "    }\n",
       "\n",
       "    .dataframe thead th {\n",
       "        text-align: left;\n",
       "    }\n",
       "\n",
       "    .dataframe tbody tr th {\n",
       "        vertical-align: top;\n",
       "    }\n",
       "</style>\n",
       "<table border=\"1\" class=\"dataframe\">\n",
       "  <thead>\n",
       "    <tr style=\"text-align: right;\">\n",
       "      <th>True</th>\n",
       "      <th>0</th>\n",
       "      <th>1</th>\n",
       "    </tr>\n",
       "    <tr>\n",
       "      <th>PoorCare</th>\n",
       "      <th></th>\n",
       "      <th></th>\n",
       "    </tr>\n",
       "  </thead>\n",
       "  <tbody>\n",
       "    <tr>\n",
       "      <th>0</th>\n",
       "      <td>97</td>\n",
       "      <td>1</td>\n",
       "    </tr>\n",
       "    <tr>\n",
       "      <th>1</th>\n",
       "      <td>28</td>\n",
       "      <td>5</td>\n",
       "    </tr>\n",
       "  </tbody>\n",
       "</table>\n",
       "</div>"
      ],
      "text/plain": [
       "True       0  1\n",
       "PoorCare       \n",
       "0         97  1\n",
       "1         28  5"
      ]
     },
     "execution_count": 9,
     "metadata": {},
     "output_type": "execute_result"
    }
   ],
   "source": [
    "pd.crosstab(df_final['PoorCare'],df_final[True])"
   ]
  },
  {
   "cell_type": "code",
   "execution_count": 11,
   "metadata": {},
   "outputs": [
    {
     "data": {
      "text/html": [
       "<div>\n",
       "<style>\n",
       "    .dataframe thead tr:only-child th {\n",
       "        text-align: right;\n",
       "    }\n",
       "\n",
       "    .dataframe thead th {\n",
       "        text-align: left;\n",
       "    }\n",
       "\n",
       "    .dataframe tbody tr th {\n",
       "        vertical-align: top;\n",
       "    }\n",
       "</style>\n",
       "<table border=\"1\" class=\"dataframe\">\n",
       "  <thead>\n",
       "    <tr style=\"text-align: right;\">\n",
       "      <th></th>\n",
       "      <th>MemberID</th>\n",
       "      <th>InpatientDays</th>\n",
       "      <th>ERVisits</th>\n",
       "      <th>OfficeVisits</th>\n",
       "      <th>Narcotics</th>\n",
       "      <th>DaysSinceLastERVisit</th>\n",
       "      <th>Pain</th>\n",
       "      <th>TotalVisits</th>\n",
       "      <th>ProviderCount</th>\n",
       "      <th>MedicalClaims</th>\n",
       "      <th>ClaimLines</th>\n",
       "      <th>StartedOnCombination</th>\n",
       "      <th>AcuteDrugGapSmall</th>\n",
       "      <th>PoorCare</th>\n",
       "      <th>True</th>\n",
       "    </tr>\n",
       "  </thead>\n",
       "  <tbody>\n",
       "    <tr>\n",
       "      <th>MemberID</th>\n",
       "      <td>1.000000</td>\n",
       "      <td>-0.063620</td>\n",
       "      <td>-0.011032</td>\n",
       "      <td>-0.006273</td>\n",
       "      <td>0.203962</td>\n",
       "      <td>0.100174</td>\n",
       "      <td>0.023700</td>\n",
       "      <td>-0.032954</td>\n",
       "      <td>0.012511</td>\n",
       "      <td>-0.065212</td>\n",
       "      <td>-0.090459</td>\n",
       "      <td>-0.144841</td>\n",
       "      <td>0.196651</td>\n",
       "      <td>0.060916</td>\n",
       "      <td>-0.144841</td>\n",
       "    </tr>\n",
       "    <tr>\n",
       "      <th>InpatientDays</th>\n",
       "      <td>-0.063620</td>\n",
       "      <td>1.000000</td>\n",
       "      <td>0.440087</td>\n",
       "      <td>0.175901</td>\n",
       "      <td>-0.093769</td>\n",
       "      <td>-0.290121</td>\n",
       "      <td>0.304058</td>\n",
       "      <td>0.622036</td>\n",
       "      <td>0.244023</td>\n",
       "      <td>0.286378</td>\n",
       "      <td>0.386951</td>\n",
       "      <td>0.105626</td>\n",
       "      <td>-0.001144</td>\n",
       "      <td>0.080726</td>\n",
       "      <td>0.105626</td>\n",
       "    </tr>\n",
       "    <tr>\n",
       "      <th>ERVisits</th>\n",
       "      <td>-0.011032</td>\n",
       "      <td>0.440087</td>\n",
       "      <td>1.000000</td>\n",
       "      <td>0.308526</td>\n",
       "      <td>-0.003732</td>\n",
       "      <td>-0.735246</td>\n",
       "      <td>0.546779</td>\n",
       "      <td>0.586439</td>\n",
       "      <td>0.457429</td>\n",
       "      <td>0.355319</td>\n",
       "      <td>0.542001</td>\n",
       "      <td>0.118766</td>\n",
       "      <td>-0.072750</td>\n",
       "      <td>0.135401</td>\n",
       "      <td>0.118766</td>\n",
       "    </tr>\n",
       "    <tr>\n",
       "      <th>OfficeVisits</th>\n",
       "      <td>-0.006273</td>\n",
       "      <td>0.175901</td>\n",
       "      <td>0.308526</td>\n",
       "      <td>1.000000</td>\n",
       "      <td>0.275759</td>\n",
       "      <td>-0.128388</td>\n",
       "      <td>0.352968</td>\n",
       "      <td>0.865387</td>\n",
       "      <td>0.365469</td>\n",
       "      <td>0.498513</td>\n",
       "      <td>0.424953</td>\n",
       "      <td>0.164056</td>\n",
       "      <td>0.200735</td>\n",
       "      <td>0.329512</td>\n",
       "      <td>0.164056</td>\n",
       "    </tr>\n",
       "    <tr>\n",
       "      <th>Narcotics</th>\n",
       "      <td>0.203962</td>\n",
       "      <td>-0.093769</td>\n",
       "      <td>-0.003732</td>\n",
       "      <td>0.275759</td>\n",
       "      <td>1.000000</td>\n",
       "      <td>0.065055</td>\n",
       "      <td>0.106860</td>\n",
       "      <td>0.163992</td>\n",
       "      <td>0.293478</td>\n",
       "      <td>0.220541</td>\n",
       "      <td>0.185799</td>\n",
       "      <td>0.043641</td>\n",
       "      <td>0.710889</td>\n",
       "      <td>0.447236</td>\n",
       "      <td>0.043641</td>\n",
       "    </tr>\n",
       "    <tr>\n",
       "      <th>DaysSinceLastERVisit</th>\n",
       "      <td>0.100174</td>\n",
       "      <td>-0.290121</td>\n",
       "      <td>-0.735246</td>\n",
       "      <td>-0.128388</td>\n",
       "      <td>0.065055</td>\n",
       "      <td>1.000000</td>\n",
       "      <td>-0.358781</td>\n",
       "      <td>-0.344640</td>\n",
       "      <td>-0.297701</td>\n",
       "      <td>-0.198114</td>\n",
       "      <td>-0.412797</td>\n",
       "      <td>-0.061953</td>\n",
       "      <td>0.131085</td>\n",
       "      <td>-0.107983</td>\n",
       "      <td>-0.061953</td>\n",
       "    </tr>\n",
       "    <tr>\n",
       "      <th>Pain</th>\n",
       "      <td>0.023700</td>\n",
       "      <td>0.304058</td>\n",
       "      <td>0.546779</td>\n",
       "      <td>0.352968</td>\n",
       "      <td>0.106860</td>\n",
       "      <td>-0.358781</td>\n",
       "      <td>1.000000</td>\n",
       "      <td>0.482959</td>\n",
       "      <td>0.405095</td>\n",
       "      <td>0.296697</td>\n",
       "      <td>0.464713</td>\n",
       "      <td>0.078373</td>\n",
       "      <td>-0.031490</td>\n",
       "      <td>0.092168</td>\n",
       "      <td>0.078373</td>\n",
       "    </tr>\n",
       "    <tr>\n",
       "      <th>TotalVisits</th>\n",
       "      <td>-0.032954</td>\n",
       "      <td>0.622036</td>\n",
       "      <td>0.586439</td>\n",
       "      <td>0.865387</td>\n",
       "      <td>0.163992</td>\n",
       "      <td>-0.344640</td>\n",
       "      <td>0.482959</td>\n",
       "      <td>1.000000</td>\n",
       "      <td>0.451545</td>\n",
       "      <td>0.549308</td>\n",
       "      <td>0.569619</td>\n",
       "      <td>0.185814</td>\n",
       "      <td>0.134861</td>\n",
       "      <td>0.300540</td>\n",
       "      <td>0.185814</td>\n",
       "    </tr>\n",
       "    <tr>\n",
       "      <th>ProviderCount</th>\n",
       "      <td>0.012511</td>\n",
       "      <td>0.244023</td>\n",
       "      <td>0.457429</td>\n",
       "      <td>0.365469</td>\n",
       "      <td>0.293478</td>\n",
       "      <td>-0.297701</td>\n",
       "      <td>0.405095</td>\n",
       "      <td>0.451545</td>\n",
       "      <td>1.000000</td>\n",
       "      <td>0.517002</td>\n",
       "      <td>0.605357</td>\n",
       "      <td>0.155765</td>\n",
       "      <td>0.141284</td>\n",
       "      <td>0.220166</td>\n",
       "      <td>0.155765</td>\n",
       "    </tr>\n",
       "    <tr>\n",
       "      <th>MedicalClaims</th>\n",
       "      <td>-0.065212</td>\n",
       "      <td>0.286378</td>\n",
       "      <td>0.355319</td>\n",
       "      <td>0.498513</td>\n",
       "      <td>0.220541</td>\n",
       "      <td>-0.198114</td>\n",
       "      <td>0.296697</td>\n",
       "      <td>0.549308</td>\n",
       "      <td>0.517002</td>\n",
       "      <td>1.000000</td>\n",
       "      <td>0.813935</td>\n",
       "      <td>0.067931</td>\n",
       "      <td>0.085637</td>\n",
       "      <td>0.167399</td>\n",
       "      <td>0.067931</td>\n",
       "    </tr>\n",
       "    <tr>\n",
       "      <th>ClaimLines</th>\n",
       "      <td>-0.090459</td>\n",
       "      <td>0.386951</td>\n",
       "      <td>0.542001</td>\n",
       "      <td>0.424953</td>\n",
       "      <td>0.185799</td>\n",
       "      <td>-0.412797</td>\n",
       "      <td>0.464713</td>\n",
       "      <td>0.569619</td>\n",
       "      <td>0.605357</td>\n",
       "      <td>0.813935</td>\n",
       "      <td>1.000000</td>\n",
       "      <td>0.045934</td>\n",
       "      <td>-0.013229</td>\n",
       "      <td>0.129175</td>\n",
       "      <td>0.045934</td>\n",
       "    </tr>\n",
       "    <tr>\n",
       "      <th>StartedOnCombination</th>\n",
       "      <td>-0.144841</td>\n",
       "      <td>0.105626</td>\n",
       "      <td>0.118766</td>\n",
       "      <td>0.164056</td>\n",
       "      <td>0.043641</td>\n",
       "      <td>-0.061953</td>\n",
       "      <td>0.078373</td>\n",
       "      <td>0.185814</td>\n",
       "      <td>0.155765</td>\n",
       "      <td>0.067931</td>\n",
       "      <td>0.045934</td>\n",
       "      <td>1.000000</td>\n",
       "      <td>-0.032375</td>\n",
       "      <td>0.293437</td>\n",
       "      <td>1.000000</td>\n",
       "    </tr>\n",
       "    <tr>\n",
       "      <th>AcuteDrugGapSmall</th>\n",
       "      <td>0.196651</td>\n",
       "      <td>-0.001144</td>\n",
       "      <td>-0.072750</td>\n",
       "      <td>0.200735</td>\n",
       "      <td>0.710889</td>\n",
       "      <td>0.131085</td>\n",
       "      <td>-0.031490</td>\n",
       "      <td>0.134861</td>\n",
       "      <td>0.141284</td>\n",
       "      <td>0.085637</td>\n",
       "      <td>-0.013229</td>\n",
       "      <td>-0.032375</td>\n",
       "      <td>1.000000</td>\n",
       "      <td>0.341435</td>\n",
       "      <td>-0.032375</td>\n",
       "    </tr>\n",
       "    <tr>\n",
       "      <th>PoorCare</th>\n",
       "      <td>0.060916</td>\n",
       "      <td>0.080726</td>\n",
       "      <td>0.135401</td>\n",
       "      <td>0.329512</td>\n",
       "      <td>0.447236</td>\n",
       "      <td>-0.107983</td>\n",
       "      <td>0.092168</td>\n",
       "      <td>0.300540</td>\n",
       "      <td>0.220166</td>\n",
       "      <td>0.167399</td>\n",
       "      <td>0.129175</td>\n",
       "      <td>0.293437</td>\n",
       "      <td>0.341435</td>\n",
       "      <td>1.000000</td>\n",
       "      <td>0.293437</td>\n",
       "    </tr>\n",
       "    <tr>\n",
       "      <th>True</th>\n",
       "      <td>-0.144841</td>\n",
       "      <td>0.105626</td>\n",
       "      <td>0.118766</td>\n",
       "      <td>0.164056</td>\n",
       "      <td>0.043641</td>\n",
       "      <td>-0.061953</td>\n",
       "      <td>0.078373</td>\n",
       "      <td>0.185814</td>\n",
       "      <td>0.155765</td>\n",
       "      <td>0.067931</td>\n",
       "      <td>0.045934</td>\n",
       "      <td>1.000000</td>\n",
       "      <td>-0.032375</td>\n",
       "      <td>0.293437</td>\n",
       "      <td>1.000000</td>\n",
       "    </tr>\n",
       "  </tbody>\n",
       "</table>\n",
       "</div>"
      ],
      "text/plain": [
       "                      MemberID  InpatientDays  ERVisits  OfficeVisits  \\\n",
       "MemberID              1.000000      -0.063620 -0.011032     -0.006273   \n",
       "InpatientDays        -0.063620       1.000000  0.440087      0.175901   \n",
       "ERVisits             -0.011032       0.440087  1.000000      0.308526   \n",
       "OfficeVisits         -0.006273       0.175901  0.308526      1.000000   \n",
       "Narcotics             0.203962      -0.093769 -0.003732      0.275759   \n",
       "DaysSinceLastERVisit  0.100174      -0.290121 -0.735246     -0.128388   \n",
       "Pain                  0.023700       0.304058  0.546779      0.352968   \n",
       "TotalVisits          -0.032954       0.622036  0.586439      0.865387   \n",
       "ProviderCount         0.012511       0.244023  0.457429      0.365469   \n",
       "MedicalClaims        -0.065212       0.286378  0.355319      0.498513   \n",
       "ClaimLines           -0.090459       0.386951  0.542001      0.424953   \n",
       "StartedOnCombination -0.144841       0.105626  0.118766      0.164056   \n",
       "AcuteDrugGapSmall     0.196651      -0.001144 -0.072750      0.200735   \n",
       "PoorCare              0.060916       0.080726  0.135401      0.329512   \n",
       "True                 -0.144841       0.105626  0.118766      0.164056   \n",
       "\n",
       "                      Narcotics  DaysSinceLastERVisit      Pain  TotalVisits  \\\n",
       "MemberID               0.203962              0.100174  0.023700    -0.032954   \n",
       "InpatientDays         -0.093769             -0.290121  0.304058     0.622036   \n",
       "ERVisits              -0.003732             -0.735246  0.546779     0.586439   \n",
       "OfficeVisits           0.275759             -0.128388  0.352968     0.865387   \n",
       "Narcotics              1.000000              0.065055  0.106860     0.163992   \n",
       "DaysSinceLastERVisit   0.065055              1.000000 -0.358781    -0.344640   \n",
       "Pain                   0.106860             -0.358781  1.000000     0.482959   \n",
       "TotalVisits            0.163992             -0.344640  0.482959     1.000000   \n",
       "ProviderCount          0.293478             -0.297701  0.405095     0.451545   \n",
       "MedicalClaims          0.220541             -0.198114  0.296697     0.549308   \n",
       "ClaimLines             0.185799             -0.412797  0.464713     0.569619   \n",
       "StartedOnCombination   0.043641             -0.061953  0.078373     0.185814   \n",
       "AcuteDrugGapSmall      0.710889              0.131085 -0.031490     0.134861   \n",
       "PoorCare               0.447236             -0.107983  0.092168     0.300540   \n",
       "True                   0.043641             -0.061953  0.078373     0.185814   \n",
       "\n",
       "                      ProviderCount  MedicalClaims  ClaimLines  \\\n",
       "MemberID                   0.012511      -0.065212   -0.090459   \n",
       "InpatientDays              0.244023       0.286378    0.386951   \n",
       "ERVisits                   0.457429       0.355319    0.542001   \n",
       "OfficeVisits               0.365469       0.498513    0.424953   \n",
       "Narcotics                  0.293478       0.220541    0.185799   \n",
       "DaysSinceLastERVisit      -0.297701      -0.198114   -0.412797   \n",
       "Pain                       0.405095       0.296697    0.464713   \n",
       "TotalVisits                0.451545       0.549308    0.569619   \n",
       "ProviderCount              1.000000       0.517002    0.605357   \n",
       "MedicalClaims              0.517002       1.000000    0.813935   \n",
       "ClaimLines                 0.605357       0.813935    1.000000   \n",
       "StartedOnCombination       0.155765       0.067931    0.045934   \n",
       "AcuteDrugGapSmall          0.141284       0.085637   -0.013229   \n",
       "PoorCare                   0.220166       0.167399    0.129175   \n",
       "True                       0.155765       0.067931    0.045934   \n",
       "\n",
       "                      StartedOnCombination  AcuteDrugGapSmall  PoorCare  \\\n",
       "MemberID                         -0.144841           0.196651  0.060916   \n",
       "InpatientDays                     0.105626          -0.001144  0.080726   \n",
       "ERVisits                          0.118766          -0.072750  0.135401   \n",
       "OfficeVisits                      0.164056           0.200735  0.329512   \n",
       "Narcotics                         0.043641           0.710889  0.447236   \n",
       "DaysSinceLastERVisit             -0.061953           0.131085 -0.107983   \n",
       "Pain                              0.078373          -0.031490  0.092168   \n",
       "TotalVisits                       0.185814           0.134861  0.300540   \n",
       "ProviderCount                     0.155765           0.141284  0.220166   \n",
       "MedicalClaims                     0.067931           0.085637  0.167399   \n",
       "ClaimLines                        0.045934          -0.013229  0.129175   \n",
       "StartedOnCombination              1.000000          -0.032375  0.293437   \n",
       "AcuteDrugGapSmall                -0.032375           1.000000  0.341435   \n",
       "PoorCare                          0.293437           0.341435  1.000000   \n",
       "True                              1.000000          -0.032375  0.293437   \n",
       "\n",
       "                          True  \n",
       "MemberID             -0.144841  \n",
       "InpatientDays         0.105626  \n",
       "ERVisits              0.118766  \n",
       "OfficeVisits          0.164056  \n",
       "Narcotics             0.043641  \n",
       "DaysSinceLastERVisit -0.061953  \n",
       "Pain                  0.078373  \n",
       "TotalVisits           0.185814  \n",
       "ProviderCount         0.155765  \n",
       "MedicalClaims         0.067931  \n",
       "ClaimLines            0.045934  \n",
       "StartedOnCombination  1.000000  \n",
       "AcuteDrugGapSmall    -0.032375  \n",
       "PoorCare              0.293437  \n",
       "True                  1.000000  "
      ]
     },
     "execution_count": 11,
     "metadata": {},
     "output_type": "execute_result"
    }
   ],
   "source": [
    "df_final.corr()"
   ]
  },
  {
   "cell_type": "code",
   "execution_count": 17,
   "metadata": {},
   "outputs": [
    {
     "name": "stdout",
     "output_type": "stream",
     "text": [
      "Index([            u'MemberID',        u'InpatientDays',\n",
      "                   u'ERVisits',         u'OfficeVisits',\n",
      "                  u'Narcotics', u'DaysSinceLastERVisit',\n",
      "                       u'Pain',          u'TotalVisits',\n",
      "              u'ProviderCount',        u'MedicalClaims',\n",
      "                 u'ClaimLines',    u'AcuteDrugGapSmall',\n",
      "                   u'PoorCare',                    True],\n",
      "      dtype='object')\n"
     ]
    }
   ],
   "source": [
    "#StartedOnCombination is a categorical variable taking only True and False\n",
    "#this is a case of both DV and IV being Categorical. We can study this by a pLot or by a cross tab\n",
    "pd.crosstab(df['PoorCare'],df['StartedOnCombination'])\n",
    "# this means that if StartedOnCombination is True for any patient, he must have received POOR\n",
    "#Care sicne 5 f them received Poor Care and Only 1 received Good Care.\n",
    "#so this variable is also Significant.\n",
    "#lets use this variable as well in our Model\n",
    "# but we will have to convert it to dummy variable as this is categorical\n",
    "# TO read more about this..watch the LINEAR REGRESSION CASE STUDY VIDEO.\n",
    "#IT has details on DUMMY VARIABLES concept and codes\n",
    "temp=pd.get_dummies(df['StartedOnCombination'],drop_first=True)\n",
    "#merge this with original dataset\n",
    "df_final=pd.concat([df,temp],axis=1)\n",
    "#We no longer need the original StartedOnCombination as we have created dummies for it,\n",
    "#so lets delete this StartedOnCombination from the df_final\n",
    "df_final=df_final.drop(['StartedOnCombination'],axis=1)\n",
    "print df_final.columns # this tells us that the dummy variable created for StartOnCombination \n",
    "# is named True. We will add this to our model"
   ]
  },
  {
   "cell_type": "markdown",
   "metadata": {},
   "source": [
    "# Model Building"
   ]
  },
  {
   "cell_type": "code",
   "execution_count": 18,
   "metadata": {
    "collapsed": true
   },
   "outputs": [],
   "source": [
    "#lets start buliding the model\n",
    "from sklearn.linear_model import LogisticRegression"
   ]
  },
  {
   "cell_type": "code",
   "execution_count": 19,
   "metadata": {
    "collapsed": true
   },
   "outputs": [],
   "source": [
    "log_reg=LogisticRegression(C = 1e9)  # C=1e9 is added for some complex reason.. Memorize this."
   ]
  },
  {
   "cell_type": "code",
   "execution_count": 20,
   "metadata": {
    "collapsed": true
   },
   "outputs": [],
   "source": [
    "#similar to what we do n Linear regression we split the data into 2 parts..\n",
    "# And define the DV and IVs.\n",
    "from sklearn.cross_validation import train_test_split\n",
    "X_train, X_test, y_train, y_test = train_test_split(df_final[[\"DaysSinceLastERVisit\",\"Narcotics\",\"Pain\",\"TotalVisits\",True]],df_final['PoorCare'],test_size=0.3,random_state=1)"
   ]
  },
  {
   "cell_type": "code",
   "execution_count": 21,
   "metadata": {},
   "outputs": [
    {
     "data": {
      "text/html": [
       "<div>\n",
       "<table border=\"1\" class=\"dataframe\">\n",
       "  <thead>\n",
       "    <tr style=\"text-align: right;\">\n",
       "      <th>col_0</th>\n",
       "      <th>0</th>\n",
       "      <th>1</th>\n",
       "    </tr>\n",
       "    <tr>\n",
       "      <th>PoorCare</th>\n",
       "      <th></th>\n",
       "      <th></th>\n",
       "    </tr>\n",
       "  </thead>\n",
       "  <tbody>\n",
       "    <tr>\n",
       "      <th>0</th>\n",
       "      <td>70</td>\n",
       "      <td>1</td>\n",
       "    </tr>\n",
       "    <tr>\n",
       "      <th>1</th>\n",
       "      <td>11</td>\n",
       "      <td>9</td>\n",
       "    </tr>\n",
       "  </tbody>\n",
       "</table>\n",
       "</div>"
      ],
      "text/plain": [
       "col_0      0  1\n",
       "PoorCare       \n",
       "0         70  1\n",
       "1         11  9"
      ]
     },
     "execution_count": 21,
     "metadata": {},
     "output_type": "execute_result"
    }
   ],
   "source": [
    "#predict on train data\n",
    "log_reg.fit(X_train,y_train)\n",
    "pred_train=log_reg.predict(X_train)\n",
    "pd.crosstab(y_train,pred_train)\n",
    "#accuracy=(70+9)/(70+9+11+1)\n",
    "#accuracy=86% on training data"
   ]
  },
  {
   "cell_type": "code",
   "execution_count": 22,
   "metadata": {
    "collapsed": true
   },
   "outputs": [],
   "source": [
    "pred=log_reg.predict(X_test)#to get the output as 1's and 0's\n",
    "#by assuming t=0.5"
   ]
  },
  {
   "cell_type": "code",
   "execution_count": 23,
   "metadata": {},
   "outputs": [
    {
     "data": {
      "text/html": [
       "<div>\n",
       "<table border=\"1\" class=\"dataframe\">\n",
       "  <thead>\n",
       "    <tr style=\"text-align: right;\">\n",
       "      <th>col_0</th>\n",
       "      <th>0</th>\n",
       "      <th>1</th>\n",
       "    </tr>\n",
       "    <tr>\n",
       "      <th>PoorCare</th>\n",
       "      <th></th>\n",
       "      <th></th>\n",
       "    </tr>\n",
       "  </thead>\n",
       "  <tbody>\n",
       "    <tr>\n",
       "      <th>0</th>\n",
       "      <td>23</td>\n",
       "      <td>4</td>\n",
       "    </tr>\n",
       "    <tr>\n",
       "      <th>1</th>\n",
       "      <td>6</td>\n",
       "      <td>7</td>\n",
       "    </tr>\n",
       "  </tbody>\n",
       "</table>\n",
       "</div>"
      ],
      "text/plain": [
       "col_0      0  1\n",
       "PoorCare       \n",
       "0         23  4\n",
       "1          6  7"
      ]
     },
     "execution_count": 23,
     "metadata": {},
     "output_type": "execute_result"
    }
   ],
   "source": [
    "#confusion matrix\n",
    "pd.crosstab(y_test,pred)"
   ]
  },
  {
   "cell_type": "code",
   "execution_count": 24,
   "metadata": {},
   "outputs": [
    {
     "name": "stdout",
     "output_type": "stream",
     "text": [
      "Accuracy is 0.75\n",
      "error is 0.25\n",
      "the coefficients are [[ -2.34777309e-03   1.32117984e-01  -3.96613765e-02   5.94438407e-02\n",
      "    2.74713761e+00]]\n",
      "the intercept is [-1.52482032]\n"
     ]
    }
   ],
   "source": [
    "TP=7.0\n",
    "TN=23.0\n",
    "FP=4.0\n",
    "FN=6.0\n",
    "#error on the test data\n",
    "accuracy= float((TP+TN)/len(y_test))\n",
    "error=float((FP+FN)/len(y_test))\n",
    "print (\"Accuracy is \")+ str(accuracy)\n",
    "print (\"error is \")+ str(error)\n",
    "#print the coefficients\n",
    "print \"the coefficients are \"+ str(log_reg.coef_)\n",
    "print \"the intercept is \"+ str(log_reg.intercept_)\n",
    "#we have got 75% accuracy, better than the baseline model\n",
    "#similarly you can also calulate Sensitivity, Specificity and Precision"
   ]
  },
  {
   "cell_type": "code",
   "execution_count": 25,
   "metadata": {
    "collapsed": true
   },
   "outputs": [],
   "source": [
    "#Also comparing the accuracy of Train 86% and test 75% , it looks like we have silghtly overfit..\n",
    "# we can try to exclude some variables to get a better fit and reduce complexity of the model"
   ]
  },
  {
   "cell_type": "code",
   "execution_count": 26,
   "metadata": {
    "collapsed": true
   },
   "outputs": [],
   "source": [
    "#so fro above we get the equation of the Logistic regression\n",
    "#\n",
    "#P(y=1)= 1/ 1+e^(-1.52 -0.0023*DaysSinceLastERVisit+0.132*Narcotics-... and so on.)\n",
    "#INTERPRETATION OF THE MODEL-----------------------------------------------------\n",
    "#This means that icreasing DaysSinceLastERVisit,Pain (negative coefficient) takes you towards P(y=0) or PoorCare(0). \n",
    "#This maskes sense as well\n",
    "#Similarly higher value of Narcotics & TotalVisits would means you are more likely to have \n",
    "#reveived Poor Care. This too makes sense( read the variable description at the begining)"
   ]
  },
  {
   "cell_type": "code",
   "execution_count": 27,
   "metadata": {
    "collapsed": true
   },
   "outputs": [],
   "source": [
    "pred1=log_reg.predict_proba(X_test)# to get probabilities instead of classes"
   ]
  },
  {
   "cell_type": "code",
   "execution_count": 28,
   "metadata": {},
   "outputs": [
    {
     "data": {
      "text/plain": [
       "array([[ 0.9712144 ,  0.0287856 ],\n",
       "       [ 0.97336105,  0.02663895],\n",
       "       [ 0.9361763 ,  0.0638237 ],\n",
       "       [ 0.92830188,  0.07169812],\n",
       "       [ 0.68128679,  0.31871321],\n",
       "       [ 0.92607993,  0.07392007],\n",
       "       [ 0.78885167,  0.21114833],\n",
       "       [ 0.88756834,  0.11243166],\n",
       "       [ 0.84707795,  0.15292205],\n",
       "       [ 0.90527956,  0.09472044],\n",
       "       [ 0.85255352,  0.14744648],\n",
       "       [ 0.48719579,  0.51280421],\n",
       "       [ 0.98778817,  0.01221183],\n",
       "       [ 0.55209741,  0.44790259],\n",
       "       [ 0.69433187,  0.30566813],\n",
       "       [ 0.8976198 ,  0.1023802 ],\n",
       "       [ 0.31593872,  0.68406128],\n",
       "       [ 0.21916031,  0.78083969],\n",
       "       [ 0.94499343,  0.05500657],\n",
       "       [ 0.70169008,  0.29830992],\n",
       "       [ 0.30423879,  0.69576121],\n",
       "       [ 0.4066398 ,  0.5933602 ],\n",
       "       [ 0.97121979,  0.02878021],\n",
       "       [ 0.05215767,  0.94784233],\n",
       "       [ 0.98156895,  0.01843105],\n",
       "       [ 0.71576874,  0.28423126],\n",
       "       [ 0.21916031,  0.78083969],\n",
       "       [ 0.87935861,  0.12064139],\n",
       "       [ 0.82706935,  0.17293065],\n",
       "       [ 0.43054005,  0.56945995],\n",
       "       [ 0.9516818 ,  0.0483182 ],\n",
       "       [ 0.94998309,  0.05001691],\n",
       "       [ 0.91185067,  0.08814933],\n",
       "       [ 0.94539924,  0.05460076],\n",
       "       [ 0.96090071,  0.03909929],\n",
       "       [ 0.01851106,  0.98148894],\n",
       "       [ 0.90804052,  0.09195948],\n",
       "       [ 0.4910485 ,  0.5089515 ],\n",
       "       [ 0.86743721,  0.13256279],\n",
       "       [ 0.28620175,  0.71379825]])"
      ]
     },
     "execution_count": 28,
     "metadata": {},
     "output_type": "execute_result"
    }
   ],
   "source": [
    "pred1"
   ]
  },
  {
   "cell_type": "markdown",
   "metadata": {},
   "source": [
    "# ROC CURVE"
   ]
  },
  {
   "cell_type": "code",
   "execution_count": 172,
   "metadata": {},
   "outputs": [
    {
     "data": {
      "text/plain": [
       "(-0.05, 1.05)"
      ]
     },
     "execution_count": 172,
     "metadata": {},
     "output_type": "execute_result"
    },
    {
     "data": {
      "image/png": "[encoded data removed]",
      "text/plain": [
       "<matplotlib.figure.Figure at 0x1ef54630>"
      ]
     },
     "metadata": {},
     "output_type": "display_data"
    }
   ],
   "source": [
    "#lets us look at ROC curve\n",
    "#dont worry about the codes fro ROC curve.. You dont have to remember it.. Just know its application\n",
    "#to read more about ROC curve refer---->\n",
    "# http://blog.yhat.com/posts/roc-curves.html or http://www.dataschool.io/roc-curves-and-auc-explained/\n",
    "fpr, tpr, threshold= metrics.roc_curve(y_test, pred1[:,1]) #pass the actual test DV and \n",
    "#predicted probability (only P(y)=1)\n",
    "#**********DRAW ROC CURVE**************\n",
    "plt.plot(fpr, tpr, label='ROC curve', color='b')\n",
    "plt.axes().set_aspect('equal')\n",
    "plt.xlim([-0.05, 1.05])\n",
    "plt.ylim([-0.05, 1.05])"
   ]
  },
  {
   "cell_type": "code",
   "execution_count": 173,
   "metadata": {},
   "outputs": [
    {
     "name": "stdout",
     "output_type": "stream",
     "text": [
      "0.783475783476\n"
     ]
    }
   ],
   "source": [
    "AUC= metrics.auc(fpr,tpr) # to get the area under the Curve\n",
    "print AUC #78% which is good. this means model is covering 78% of the datapoints well. Best value is 1\n",
    "#worst is 0"
   ]
  },
  {
   "cell_type": "code",
   "execution_count": null,
   "metadata": {
    "collapsed": true
   },
   "outputs": [],
   "source": [
    "from sklearn import metrics"
   ]
  },
  {
   "cell_type": "code",
   "execution_count": 175,
   "metadata": {},
   "outputs": [
    {
     "data": {
      "text/html": [
       "<div>\n",
       "<table border=\"1\" class=\"dataframe\">\n",
       "  <thead>\n",
       "    <tr style=\"text-align: right;\">\n",
       "      <th>col_0</th>\n",
       "      <th>0</th>\n",
       "      <th>1</th>\n",
       "    </tr>\n",
       "    <tr>\n",
       "      <th>PoorCare</th>\n",
       "      <th></th>\n",
       "      <th></th>\n",
       "    </tr>\n",
       "  </thead>\n",
       "  <tbody>\n",
       "    <tr>\n",
       "      <th>0</th>\n",
       "      <td>23</td>\n",
       "      <td>4</td>\n",
       "    </tr>\n",
       "    <tr>\n",
       "      <th>1</th>\n",
       "      <td>5</td>\n",
       "      <td>8</td>\n",
       "    </tr>\n",
       "  </tbody>\n",
       "</table>\n",
       "</div>"
      ],
      "text/plain": [
       "col_0      0  1\n",
       "PoorCare       \n",
       "0         23  4\n",
       "1          5  8"
      ]
     },
     "execution_count": 175,
     "metadata": {},
     "output_type": "execute_result"
    }
   ],
   "source": [
    "#CONVERT THE PROBABILITITS TO 1'S AND 0'S APPLYING OUT OWN THRESHOLD\n",
    "#HERE 0.40\n",
    "x=[]\n",
    "for i in range(len(pred1[:,1])):\n",
    "    if (pred1[:,1][i]>=0.4):\n",
    "        x.append(1)\n",
    "    else:\n",
    "        x.append(0)\n",
    "x=np.array(x)\n",
    "pd.crosstab(y_test,x)"
   ]
  },
  {
   "cell_type": "code",
   "execution_count": 176,
   "metadata": {},
   "outputs": [
    {
     "name": "stdout",
     "output_type": "stream",
     "text": [
      "0.775\n",
      "0.225\n"
     ]
    }
   ],
   "source": [
    "#output 2\n",
    "TP=8.0\n",
    "TN=23.0\n",
    "FP=4.0\n",
    "FN=5.0\n",
    "#error on the test data\n",
    "accuracy= float((TP+TN)/len(y_test))\n",
    "error=float((FP+FN)/len(y_test))\n",
    "print accuracy\n",
    "print error\n",
    "#slightly better than before\n",
    "#similarly you can also calulate Sensitivity, Specificity and Precision"
   ]
  },
  {
   "cell_type": "code",
   "execution_count": 177,
   "metadata": {
    "collapsed": true
   },
   "outputs": [],
   "source": [
    "#lets see the P values to verify if we have used all Good variables"
   ]
  },
  {
   "cell_type": "code",
   "execution_count": 178,
   "metadata": {
    "collapsed": true
   },
   "outputs": [],
   "source": [
    "import statsmodels.discrete.discrete_model as sm\n",
    "from statsmodels.api import add_constant\n",
    "X2 = add_constant(X_train)"
   ]
  },
  {
   "cell_type": "code",
   "execution_count": 179,
   "metadata": {
    "collapsed": true
   },
   "outputs": [],
   "source": [
    "logit = sm.Logit(y_train, X2)"
   ]
  },
  {
   "cell_type": "code",
   "execution_count": 180,
   "metadata": {},
   "outputs": [
    {
     "name": "stdout",
     "output_type": "stream",
     "text": [
      "Optimization terminated successfully.\n",
      "         Current function value: 0.370628\n",
      "         Iterations 7\n",
      "                           Logit Regression Results                           \n",
      "==============================================================================\n",
      "Dep. Variable:               PoorCare   No. Observations:                   91\n",
      "Model:                          Logit   Df Residuals:                       85\n",
      "Method:                           MLE   Df Model:                            5\n",
      "Date:                Mon, 11 Dec 2017   Pseudo R-squ.:                  0.2962\n",
      "Time:                        00:36:26   Log-Likelihood:                -33.727\n",
      "converged:                       True   LL-Null:                       -47.923\n",
      "                                        LLR p-value:                 3.050e-05\n",
      "========================================================================================\n",
      "                           coef    std err          z      P>|z|      [95.0% Conf. Int.]\n",
      "----------------------------------------------------------------------------------------\n",
      "const                   -1.5322      0.805     -1.904      0.057        -3.109     0.045\n",
      "DaysSinceLastERVisit    -0.0023      0.001     -1.903      0.057        -0.005  6.97e-05\n",
      "Narcotics                0.1324      0.044      3.040      0.002         0.047     0.218\n",
      "Pain                    -0.0398      0.027     -1.472      0.141        -0.093     0.013\n",
      "TotalVisits              0.0597      0.036      1.662      0.096        -0.011     0.130\n",
      "True                     2.7626      1.409      1.961      0.050         0.001     5.524\n",
      "========================================================================================\n"
     ]
    }
   ],
   "source": [
    "result = logit.fit()\n",
    "print result.summary()"
   ]
  },
  {
   "cell_type": "code",
   "execution_count": 181,
   "metadata": {
    "collapsed": true
   },
   "outputs": [],
   "source": [
    "# we see from abve that Pain and Total Visits are not imprtant pain 14% and Total Visits 9.6%\n",
    "#let lets exclude them and recheck the model"
   ]
  },
  {
   "cell_type": "code",
   "execution_count": 182,
   "metadata": {
    "collapsed": true
   },
   "outputs": [],
   "source": [
    "from sklearn.cross_validation import train_test_split\n",
    "X_train, X_test, y_train, y_test = train_test_split(df_final[[\"DaysSinceLastERVisit\",\"Narcotics\",True]],df_final['PoorCare'],test_size=0.3,random_state=1)"
   ]
  },
  {
   "cell_type": "code",
   "execution_count": 183,
   "metadata": {},
   "outputs": [
    {
     "data": {
      "text/plain": [
       "LogisticRegression(C=1000000000.0, class_weight=None, dual=False,\n",
       "          fit_intercept=True, intercept_scaling=1, max_iter=100,\n",
       "          multi_class='ovr', n_jobs=1, penalty='l2', random_state=None,\n",
       "          solver='liblinear', tol=0.0001, verbose=0, warm_start=False)"
      ]
     },
     "execution_count": 183,
     "metadata": {},
     "output_type": "execute_result"
    }
   ],
   "source": [
    "log_reg=LogisticRegression(C = 1e9)\n",
    "log_reg.fit(X_train,y_train)"
   ]
  },
  {
   "cell_type": "code",
   "execution_count": 184,
   "metadata": {},
   "outputs": [
    {
     "data": {
      "text/html": [
       "<div>\n",
       "<table border=\"1\" class=\"dataframe\">\n",
       "  <thead>\n",
       "    <tr style=\"text-align: right;\">\n",
       "      <th>col_0</th>\n",
       "      <th>0</th>\n",
       "      <th>1</th>\n",
       "    </tr>\n",
       "    <tr>\n",
       "      <th>PoorCare</th>\n",
       "      <th></th>\n",
       "      <th></th>\n",
       "    </tr>\n",
       "  </thead>\n",
       "  <tbody>\n",
       "    <tr>\n",
       "      <th>0</th>\n",
       "      <td>70</td>\n",
       "      <td>1</td>\n",
       "    </tr>\n",
       "    <tr>\n",
       "      <th>1</th>\n",
       "      <td>11</td>\n",
       "      <td>9</td>\n",
       "    </tr>\n",
       "  </tbody>\n",
       "</table>\n",
       "</div>"
      ],
      "text/plain": [
       "col_0      0  1\n",
       "PoorCare       \n",
       "0         70  1\n",
       "1         11  9"
      ]
     },
     "execution_count": 184,
     "metadata": {},
     "output_type": "execute_result"
    }
   ],
   "source": [
    "#predict on train data\n",
    "pred_train=log_reg.predict(X_train)\n",
    "pd.crosstab(y_train,pred_train)\n",
    "#accuracy=(70+9)/(70+9+11+1)\n",
    "#accuracy=86% on training data\n",
    "#similarly you can also calulate Sensitivity, Specificity and Precision"
   ]
  },
  {
   "cell_type": "code",
   "execution_count": 185,
   "metadata": {},
   "outputs": [
    {
     "name": "stdout",
     "output_type": "stream",
     "text": [
      "accuracy is 0.8\n"
     ]
    }
   ],
   "source": [
    "#predict on test\n",
    "pred=log_reg.predict(X_test)#to get the output as 1's and 0's\n",
    "#by assuming t=0.5\n",
    "#confusion matrix\n",
    "pd.crosstab(y_test,pred)\n",
    "#test data accuracy= 27+5=32\n",
    "print \"accuracy is \"+ str(32.0/40) #80% better than previous result and very close to train data accuracy (86%).\n",
    "#this is random variation.\n",
    "#hence overfitting has been removed. "
   ]
  },
  {
   "cell_type": "code",
   "execution_count": 186,
   "metadata": {
    "collapsed": true
   },
   "outputs": [],
   "source": [
    "#so final model will have only DaysSinceLastERVisit\",\"Narcotics\" & \n",
    "#StartedOnCombination(dummy of this) as the INDEPENDENT VARIABLES"
   ]
  },
  {
   "cell_type": "code",
   "execution_count": 94,
   "metadata": {
    "collapsed": true
   },
   "outputs": [],
   "source": [
    "#HOPE THIS CASE STUDY HELPED YOU. THIS IS HOW TO PROCEED WITH ANY DATA.. ONE STEP AT A TIME.\n",
    "# NURTURING YOUR DATA SCIECNE JOURNEY AND HONING YOUR SKILLS.\n",
    "# MAIL AT BANGALOREDATASCIENCEACADEMY@GMAIL.COM FOR MORE SUCH CASE STUDIES"
   ]
  }
 ],
 "metadata": {
  "anaconda-cloud": {},
  "kernelspec": {
   "display_name": "Python 3",
   "language": "python",
   "name": "python3"
  },
  "language_info": {
   "codemirror_mode": {
    "name": "ipython",
    "version": 3
   },
   "file_extension": ".py",
   "mimetype": "text/x-python",
   "name": "python",
   "nbconvert_exporter": "python",
   "pygments_lexer": "ipython3",
   "version": "3.6.2"
  }
 },
 "nbformat": 4,
 "nbformat_minor": 1
}
